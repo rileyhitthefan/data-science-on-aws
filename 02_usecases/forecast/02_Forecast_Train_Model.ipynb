{
 "cells": [
  {
   "cell_type": "markdown",
   "metadata": {},
   "source": [
    "# Building Your Predictor\n",
    "\n",
    "The next step after preparing and importing your data via `Getting_Data_Ready.ipynb` is to build your first model.\n",
    "\n",
    "The overall process for this is:\n",
    "\n",
    "* Setup\n",
    "* Create a Predictor\n",
    "* Deploy a Predictor\n",
    "* Obtain a Forecast\n",
    "\n",
    "To get started, simply execute the cells below:\n"
   ]
  },
  {
   "cell_type": "markdown",
   "metadata": {},
   "source": [
    "## Setup\n"
   ]
  },
  {
   "cell_type": "markdown",
   "metadata": {},
   "source": [
    "Import the standard Python Libraries that are used in this lesson."
   ]
  },
  {
   "cell_type": "code",
   "execution_count": 1,
   "metadata": {},
   "outputs": [],
   "source": [
    "import sys\n",
    "import os\n",
    "import time\n",
    "\n",
    "import boto3\n",
    "\n",
    "# importing forecast notebook utility from notebooks/common directory\n",
    "#sys.path.insert( 0, os.path.abspath(\"../../common\") )\n",
    "import util"
   ]
  },
  {
   "cell_type": "markdown",
   "metadata": {},
   "source": [
    "The line below will retrieve your shared variables from the first notebook."
   ]
  },
  {
   "cell_type": "code",
   "execution_count": 3,
   "metadata": {},
   "outputs": [],
   "source": [
    "%store -r"
   ]
  },
  {
   "cell_type": "markdown",
   "metadata": {},
   "source": [
    "The last part of the setup process is to validate that your account can communicate with Amazon Forecast, the cell below does just that."
   ]
  },
  {
   "cell_type": "code",
   "execution_count": 4,
   "metadata": {},
   "outputs": [],
   "source": [
    "import sagemaker\n",
    "import boto3\n",
    "\n",
    "sagemaker_session = sagemaker.Session()\n",
    "role = sagemaker.get_execution_role()\n",
    "bucket = sagemaker_session.default_bucket()\n",
    "region = boto3.Session().region_name\n",
    "\n",
    "session = boto3.Session(region_name=region) \n",
    "forecast = session.client(service_name='forecast') \n",
    "forecastquery = session.client(service_name='forecastquery')"
   ]
  },
  {
   "cell_type": "code",
   "execution_count": 5,
   "metadata": {},
   "outputs": [
    {
     "name": "stdout",
     "output_type": "stream",
     "text": [
      "no stored variable or alias forecast_key\n",
      "no stored variable or alias forecast_ds_import_job_arn\n"
     ]
    }
   ],
   "source": [
    "%store -r forecast_project_name\n",
    "%store -r forecast_dataset_group_arn\n",
    "%store -r forecast_dataset_arn\n",
    "%store -r forecast_role_name\n",
    "%store -r forecast_key\n",
    "%store -r forecast_ds_import_job_arn"
   ]
  },
  {
   "cell_type": "markdown",
   "metadata": {},
   "source": [
    "## Create a Predictor\n",
    "\n",
    "Now in the previous notebook, your data was imported to be used by Forecast, here we will once again define your dataset information and then start building your model or predictor."
   ]
  },
  {
   "cell_type": "markdown",
   "metadata": {},
   "source": [
    "Forecast horizon is the number of number of time points to predicted in the future. For weekly data, a value of 12 means 12 weeks. Our example is hourly data, we try forecast the next day, so we can set to 24."
   ]
  },
  {
   "cell_type": "code",
   "execution_count": 6,
   "metadata": {},
   "outputs": [],
   "source": [
    "predictor_name = forecast_project_name + '_deeparp_algo'"
   ]
  },
  {
   "cell_type": "code",
   "execution_count": 7,
   "metadata": {},
   "outputs": [],
   "source": [
    "forecast_horizon = 24"
   ]
  },
  {
   "cell_type": "code",
   "execution_count": 8,
   "metadata": {},
   "outputs": [],
   "source": [
    "algorithm_arn = 'arn:aws:forecast:::algorithm/Deep_AR_Plus'"
   ]
  },
  {
   "cell_type": "code",
   "execution_count": 9,
   "metadata": {},
   "outputs": [],
   "source": [
    "create_predictor_response=forecast.create_predictor(PredictorName=predictor_name, \n",
    "                                                    AlgorithmArn=algorithm_arn,\n",
    "                                                    ForecastHorizon=forecast_horizon,\n",
    "                                                    PerformAutoML= False,\n",
    "                                                    PerformHPO=False,\n",
    "                                                    EvaluationParameters= {\"NumberOfBacktestWindows\": 1, \n",
    "                                                                           \"BackTestWindowOffset\": 24}, \n",
    "                                                    InputDataConfig= {\"DatasetGroupArn\": forecast_dataset_group_arn},\n",
    "                                                    FeaturizationConfig= {\"ForecastFrequency\": \"H\", \n",
    "                                                                          \"Featurizations\": \n",
    "                                                                          [\n",
    "                                                                              {\"AttributeName\": \"target_value\", \n",
    "                                                                               \"FeaturizationPipeline\": \n",
    "                                                                                [\n",
    "                                                                                  {\"FeaturizationMethodName\": \"filling\", \n",
    "                                                                                   \"FeaturizationMethodParameters\": \n",
    "                                                                                    {\"frontfill\": \"none\", \n",
    "                                                                                     \"middlefill\": \"zero\", \n",
    "                                                                                     \"backfill\": \"zero\"}\n",
    "                                                                                  }\n",
    "                                                                                ]\n",
    "                                                                              }\n",
    "                                                                          ]\n",
    "                                                                         }\n",
    "                                                 )"
   ]
  },
  {
   "cell_type": "code",
   "execution_count": 10,
   "metadata": {},
   "outputs": [],
   "source": [
    "forecast_predictor_arn=create_predictor_response['PredictorArn']"
   ]
  },
  {
   "cell_type": "markdown",
   "metadata": {},
   "source": [
    "Check the status of the predictor. When the status change from **CREATE_IN_PROGRESS** to **ACTIVE**, we can continue to next steps. Depending on data size, model selection and hyper parameters，it can take 10 mins to more than one hour to be **ACTIVE**."
   ]
  },
  {
   "cell_type": "code",
   "execution_count": null,
   "metadata": {},
   "outputs": [
    {
     "name": "stdout",
     "output_type": "stream",
     "text": [
      "CREATE_PENDING .\n",
      "CREATE_IN_PROGRESS ...................................................................................................................................................................................................."
     ]
    }
   ],
   "source": [
    "status_indicator = util.StatusIndicator()\n",
    "\n",
    "while True:\n",
    "    status = forecast.describe_predictor(PredictorArn=forecast_predictor_arn)['Status']\n",
    "    status_indicator.update(status)\n",
    "    if status in ('ACTIVE', 'CREATE_FAILED'): break\n",
    "    time.sleep(10)\n",
    "\n",
    "status_indicator.end()"
   ]
  },
  {
   "cell_type": "markdown",
   "metadata": {},
   "source": [
    "### Get Error Metrics"
   ]
  },
  {
   "cell_type": "code",
   "execution_count": null,
   "metadata": {},
   "outputs": [],
   "source": [
    "forecast.get_accuracy_metrics(PredictorArn=forecast_predictor_arn)"
   ]
  },
  {
   "cell_type": "markdown",
   "metadata": {},
   "source": [
    "## Create a Forecast\n",
    "\n",
    "Now create a forecast using the model that was trained"
   ]
  },
  {
   "cell_type": "code",
   "execution_count": null,
   "metadata": {},
   "outputs": [],
   "source": [
    "forecast_name = forecast_project_name + '_deeparp_algo_forecast'"
   ]
  },
  {
   "cell_type": "code",
   "execution_count": null,
   "metadata": {},
   "outputs": [],
   "source": [
    "create_forecast_response=forecast.create_forecast(ForecastName=forecast_name,\n",
    "                                                  PredictorArn=forecast_predictor_arn)\n",
    "forecast_arn = create_forecast_response['ForecastArn']"
   ]
  },
  {
   "cell_type": "markdown",
   "metadata": {},
   "source": [
    "Check the status of the forecast process, when the status change from **CREATE_IN_PROGRESS** to **ACTIVE**, we can continue to next steps. Depending on data size, model selection and hyper parameters，it can take 10 mins to more than one hour to be **ACTIVE**."
   ]
  },
  {
   "cell_type": "code",
   "execution_count": null,
   "metadata": {},
   "outputs": [],
   "source": [
    "status_indicator = util.StatusIndicator()\n",
    "\n",
    "while True:\n",
    "    status = forecast.describe_forecast(ForecastArn=forecast_arn)['Status']\n",
    "    status_indicator.update(status)\n",
    "    if status in ('ACTIVE', 'CREATE_FAILED'): break\n",
    "    time.sleep(10)\n",
    "\n",
    "status_indicator.end()"
   ]
  },
  {
   "cell_type": "markdown",
   "metadata": {},
   "source": [
    "### Get Forecast"
   ]
  },
  {
   "cell_type": "markdown",
   "metadata": {},
   "source": [
    "Once created, the forecast results are ready and you view them. "
   ]
  },
  {
   "cell_type": "code",
   "execution_count": null,
   "metadata": {},
   "outputs": [],
   "source": [
    "from pprint import pprint\n",
    "print(forecast_arn)\n",
    "print()\n",
    "forecastResponse = forecastquery.query_forecast(\n",
    "    ForecastArn=forecast_arn,\n",
    "    Filters={\"item_id\":\"client_12\"}\n",
    ")\n",
    "pprint(forecastResponse)"
   ]
  },
  {
   "cell_type": "markdown",
   "metadata": {},
   "source": [
    "## Next Steps\n",
    "\n",
    "Now that your forecast has been created, to evaluate it use `3.Evaluating_Your_Predictor.ipynb` but before opening it, execute the cell below to share your variables again with the next notebook."
   ]
  },
  {
   "cell_type": "code",
   "execution_count": null,
   "metadata": {},
   "outputs": [],
   "source": [
    "%store forecast_arn\n",
    "%store forecast_predictor_arn"
   ]
  },
  {
   "cell_type": "code",
   "execution_count": null,
   "metadata": {},
   "outputs": [],
   "source": []
  },
  {
   "cell_type": "markdown",
   "metadata": {},
   "source": [
    "# Building Your Predictor\n",
    "\n",
    "The next step after preparing and importing your data via `Getting_Data_Ready.ipynb` is to build your first model.\n",
    "\n",
    "The overall process for this is:\n",
    "\n",
    "* Setup\n",
    "* Create a Predictor\n",
    "* Deploy a Predictor\n",
    "* Obtain a Forecast\n",
    "\n",
    "To get started, simply execute the cells below:\n"
   ]
  },
  {
   "cell_type": "markdown",
   "metadata": {},
   "source": [
    "## Setup\n"
   ]
  },
  {
   "cell_type": "markdown",
   "metadata": {},
   "source": [
    "Import the standard Python Libraries that are used in this lesson."
   ]
  },
  {
   "cell_type": "code",
   "execution_count": 1,
   "metadata": {},
   "outputs": [],
   "source": [
    "import sys\n",
    "import os\n",
    "import time\n",
    "\n",
    "import boto3\n",
    "\n",
    "# importing forecast notebook utility from notebooks/common directory\n",
    "#sys.path.insert( 0, os.path.abspath(\"../../common\") )\n",
    "import util"
   ]
  },
  {
   "cell_type": "markdown",
   "metadata": {},
   "source": [
    "The line below will retrieve your shared variables from the first notebook."
   ]
  },
  {
   "cell_type": "code",
   "execution_count": 3,
   "metadata": {},
   "outputs": [],
   "source": [
    "%store -r"
   ]
  },
  {
   "cell_type": "markdown",
   "metadata": {},
   "source": [
    "The last part of the setup process is to validate that your account can communicate with Amazon Forecast, the cell below does just that."
   ]
  },
  {
   "cell_type": "code",
   "execution_count": 4,
   "metadata": {},
   "outputs": [],
   "source": [
    "import sagemaker\n",
    "import boto3\n",
    "\n",
    "sagemaker_session = sagemaker.Session()\n",
    "role = sagemaker.get_execution_role()\n",
    "bucket = sagemaker_session.default_bucket()\n",
    "region = boto3.Session().region_name\n",
    "\n",
    "session = boto3.Session(region_name=region) \n",
    "forecast = session.client(service_name='forecast') \n",
    "forecastquery = session.client(service_name='forecastquery')"
   ]
  },
  {
   "cell_type": "code",
   "execution_count": 5,
   "metadata": {},
   "outputs": [
    {
     "name": "stdout",
     "output_type": "stream",
     "text": [
      "no stored variable or alias forecast_key\n",
      "no stored variable or alias forecast_ds_import_job_arn\n"
     ]
    }
   ],
   "source": [
    "%store -r forecast_project_name\n",
    "%store -r forecast_dataset_group_arn\n",
    "%store -r forecast_dataset_arn\n",
    "%store -r forecast_role_name\n",
    "%store -r forecast_key\n",
    "%store -r forecast_ds_import_job_arn"
   ]
  },
  {
   "cell_type": "markdown",
   "metadata": {},
   "source": [
    "## Create a Predictor\n",
    "\n",
    "Now in the previous notebook, your data was imported to be used by Forecast, here we will once again define your dataset information and then start building your model or predictor."
   ]
  },
  {
   "cell_type": "markdown",
   "metadata": {},
   "source": [
    "Forecast horizon is the number of number of time points to predicted in the future. For weekly data, a value of 12 means 12 weeks. Our example is hourly data, we try forecast the next day, so we can set to 24."
   ]
  },
  {
   "cell_type": "code",
   "execution_count": 6,
   "metadata": {},
   "outputs": [],
   "source": [
    "predictor_name = forecast_project_name + '_deeparp_algo'"
   ]
  },
  {
   "cell_type": "code",
   "execution_count": 7,
   "metadata": {},
   "outputs": [],
   "source": [
    "forecast_horizon = 24"
   ]
  },
  {
   "cell_type": "code",
   "execution_count": 8,
   "metadata": {},
   "outputs": [],
   "source": [
    "algorithm_arn = 'arn:aws:forecast:::algorithm/Deep_AR_Plus'"
   ]
  },
  {
   "cell_type": "code",
   "execution_count": 9,
   "metadata": {},
   "outputs": [],
   "source": [
    "create_predictor_response=forecast.create_predictor(PredictorName=predictor_name, \n",
    "                                                    AlgorithmArn=algorithm_arn,\n",
    "                                                    ForecastHorizon=forecast_horizon,\n",
    "                                                    PerformAutoML= False,\n",
    "                                                    PerformHPO=False,\n",
    "                                                    EvaluationParameters= {\"NumberOfBacktestWindows\": 1, \n",
    "                                                                           \"BackTestWindowOffset\": 24}, \n",
    "                                                    InputDataConfig= {\"DatasetGroupArn\": forecast_dataset_group_arn},\n",
    "                                                    FeaturizationConfig= {\"ForecastFrequency\": \"H\", \n",
    "                                                                          \"Featurizations\": \n",
    "                                                                          [\n",
    "                                                                              {\"AttributeName\": \"target_value\", \n",
    "                                                                               \"FeaturizationPipeline\": \n",
    "                                                                                [\n",
    "                                                                                  {\"FeaturizationMethodName\": \"filling\", \n",
    "                                                                                   \"FeaturizationMethodParameters\": \n",
    "                                                                                    {\"frontfill\": \"none\", \n",
    "                                                                                     \"middlefill\": \"zero\", \n",
    "                                                                                     \"backfill\": \"zero\"}\n",
    "                                                                                  }\n",
    "                                                                                ]\n",
    "                                                                              }\n",
    "                                                                          ]\n",
    "                                                                         }\n",
    "                                                 )"
   ]
  },
  {
   "cell_type": "code",
   "execution_count": 10,
   "metadata": {},
   "outputs": [],
   "source": [
    "forecast_predictor_arn=create_predictor_response['PredictorArn']"
   ]
  },
  {
   "cell_type": "markdown",
   "metadata": {},
   "source": [
    "Check the status of the predictor. When the status change from **CREATE_IN_PROGRESS** to **ACTIVE**, we can continue to next steps. Depending on data size, model selection and hyper parameters，it can take 10 mins to more than one hour to be **ACTIVE**."
   ]
  },
  {
   "cell_type": "code",
   "execution_count": 12,
   "metadata": {},
   "outputs": [
    {
     "name": "stdout",
     "output_type": "stream",
     "text": [
      "ACTIVE \n"
     ]
    }
   ],
   "source": [
    "status_indicator = util.StatusIndicator()\n",
    "\n",
    "while True:\n",
    "    status = forecast.describe_predictor(PredictorArn=forecast_predictor_arn)['Status']\n",
    "    status_indicator.update(status)\n",
    "    if status in ('ACTIVE', 'CREATE_FAILED'): break\n",
    "    time.sleep(10)\n",
    "\n",
    "status_indicator.end()"
   ]
  },
  {
   "cell_type": "markdown",
   "metadata": {},
   "source": [
    "### Get Error Metrics"
   ]
  },
  {
   "cell_type": "code",
   "execution_count": 13,
   "metadata": {},
   "outputs": [
    {
     "data": {
      "text/plain": [
       "{'PredictorEvaluationResults': [{'AlgorithmArn': 'arn:aws:forecast:::algorithm/Deep_AR_Plus',\n",
       "   'TestWindows': [{'EvaluationType': 'SUMMARY',\n",
       "     'Metrics': {'RMSE': 18.117713949884383,\n",
       "      'WeightedQuantileLosses': [{'Quantile': 0.9,\n",
       "        'LossValue': 0.2597559132546497},\n",
       "       {'Quantile': 0.5, 'LossValue': 0.270472984787922},\n",
       "       {'Quantile': 0.1, 'LossValue': 0.07720929228468607}],\n",
       "      'ErrorMetrics': [{'ForecastType': 'mean',\n",
       "        'WAPE': 0.2656715696251501,\n",
       "        'RMSE': 18.117713949884383,\n",
       "        'MASE': 2.2266954870808107,\n",
       "        'MAPE': 0.29553923630341355}],\n",
       "      'AverageWeightedQuantileLoss': 0.20247939677575258}},\n",
       "    {'TestWindowStart': datetime.datetime(2014, 10, 30, 0, 0, tzinfo=tzlocal()),\n",
       "     'TestWindowEnd': datetime.datetime(2014, 10, 31, 0, 0, tzinfo=tzlocal()),\n",
       "     'ItemCount': 3,\n",
       "     'EvaluationType': 'COMPUTED',\n",
       "     'Metrics': {'RMSE': 18.117713949884383,\n",
       "      'WeightedQuantileLosses': [{'Quantile': 0.9,\n",
       "        'LossValue': 0.2597559132546497},\n",
       "       {'Quantile': 0.5, 'LossValue': 0.270472984787922},\n",
       "       {'Quantile': 0.1, 'LossValue': 0.07720929228468607}],\n",
       "      'ErrorMetrics': [{'ForecastType': 'mean',\n",
       "        'WAPE': 0.2656715696251501,\n",
       "        'RMSE': 18.117713949884383,\n",
       "        'MASE': 2.226695487080811,\n",
       "        'MAPE': 0.29553923630341355}],\n",
       "      'AverageWeightedQuantileLoss': 0.20247939677575258}}]}],\n",
       " 'IsAutoPredictor': False,\n",
       " 'ResponseMetadata': {'RequestId': '6a2cdbba-75c9-4d77-9d48-68926bc05e7f',\n",
       "  'HTTPStatusCode': 200,\n",
       "  'HTTPHeaders': {'date': 'Mon, 08 Jul 2024 05:59:44 GMT',\n",
       "   'content-type': 'application/x-amz-json-1.1',\n",
       "   'content-length': '1073',\n",
       "   'connection': 'keep-alive',\n",
       "   'x-amzn-requestid': '6a2cdbba-75c9-4d77-9d48-68926bc05e7f'},\n",
       "  'RetryAttempts': 0}}"
      ]
     },
     "execution_count": 13,
     "metadata": {},
     "output_type": "execute_result"
    }
   ],
   "source": [
    "forecast.get_accuracy_metrics(PredictorArn=forecast_predictor_arn)"
   ]
  },
  {
   "cell_type": "markdown",
   "metadata": {},
   "source": [
    "## Create a Forecast\n",
    "\n",
    "Now create a forecast using the model that was trained"
   ]
  },
  {
   "cell_type": "code",
   "execution_count": 14,
   "metadata": {},
   "outputs": [],
   "source": [
    "forecast_name = forecast_project_name + '_deeparp_algo_forecast'"
   ]
  },
  {
   "cell_type": "code",
   "execution_count": 15,
   "metadata": {},
   "outputs": [],
   "source": [
    "create_forecast_response=forecast.create_forecast(ForecastName=forecast_name,\n",
    "                                                  PredictorArn=forecast_predictor_arn)\n",
    "forecast_arn = create_forecast_response['ForecastArn']"
   ]
  },
  {
   "cell_type": "markdown",
   "metadata": {},
   "source": [
    "Check the status of the forecast process, when the status change from **CREATE_IN_PROGRESS** to **ACTIVE**, we can continue to next steps. Depending on data size, model selection and hyper parameters，it can take 10 mins to more than one hour to be **ACTIVE**."
   ]
  },
  {
   "cell_type": "code",
   "execution_count": 16,
   "metadata": {},
   "outputs": [
    {
     "name": "stdout",
     "output_type": "stream",
     "text": [
      "CREATE_PENDING \n",
      "CREATE_IN_PROGRESS ...............................................................................................................................................................................................\n",
      "ACTIVE \n"
     ]
    }
   ],
   "source": [
    "status_indicator = util.StatusIndicator()\n",
    "\n",
    "while True:\n",
    "    status = forecast.describe_forecast(ForecastArn=forecast_arn)['Status']\n",
    "    status_indicator.update(status)\n",
    "    if status in ('ACTIVE', 'CREATE_FAILED'): break\n",
    "    time.sleep(10)\n",
    "\n",
    "status_indicator.end()"
   ]
  },
  {
   "cell_type": "markdown",
   "metadata": {},
   "source": [
    "### Get Forecast"
   ]
  },
  {
   "cell_type": "markdown",
   "metadata": {},
   "source": [
    "Once created, the forecast results are ready and you view them. "
   ]
  },
  {
   "cell_type": "code",
   "execution_count": 17,
   "metadata": {},
   "outputs": [
    {
     "name": "stdout",
     "output_type": "stream",
     "text": [
      "arn:aws:forecast:us-east-1:992382405090:forecast/util_power_forecast_deeparp_algo_forecast\n",
      "\n",
      "{'Forecast': {'Predictions': {'p10': [{'Timestamp': '2014-10-31T00:00:00',\n",
      "                                       'Value': 46.6488418579},\n",
      "                                      {'Timestamp': '2014-10-31T01:00:00',\n",
      "                                       'Value': 44.0505981445},\n",
      "                                      {'Timestamp': '2014-10-31T02:00:00',\n",
      "                                       'Value': 43.3063316345},\n",
      "                                      {'Timestamp': '2014-10-31T03:00:00',\n",
      "                                       'Value': 34.5210533142},\n",
      "                                      {'Timestamp': '2014-10-31T04:00:00',\n",
      "                                       'Value': 32.3293800354},\n",
      "                                      {'Timestamp': '2014-10-31T05:00:00',\n",
      "                                       'Value': 31.18542099},\n",
      "                                      {'Timestamp': '2014-10-31T06:00:00',\n",
      "                                       'Value': 32.03358078},\n",
      "                                      {'Timestamp': '2014-10-31T07:00:00',\n",
      "                                       'Value': 33.7692108154},\n",
      "                                      {'Timestamp': '2014-10-31T08:00:00',\n",
      "                                       'Value': 46.2760658264},\n",
      "                                      {'Timestamp': '2014-10-31T09:00:00',\n",
      "                                       'Value': 113.4802703857},\n",
      "                                      {'Timestamp': '2014-10-31T10:00:00',\n",
      "                                       'Value': 134.9615478516},\n",
      "                                      {'Timestamp': '2014-10-31T11:00:00',\n",
      "                                       'Value': 123.8370361328},\n",
      "                                      {'Timestamp': '2014-10-31T12:00:00',\n",
      "                                       'Value': 131.9969177246},\n",
      "                                      {'Timestamp': '2014-10-31T13:00:00',\n",
      "                                       'Value': 106.0670471191},\n",
      "                                      {'Timestamp': '2014-10-31T14:00:00',\n",
      "                                       'Value': 95.2983016968},\n",
      "                                      {'Timestamp': '2014-10-31T15:00:00',\n",
      "                                       'Value': 123.4764175415},\n",
      "                                      {'Timestamp': '2014-10-31T16:00:00',\n",
      "                                       'Value': 116.6351547241},\n",
      "                                      {'Timestamp': '2014-10-31T17:00:00',\n",
      "                                       'Value': 116.0459671021},\n",
      "                                      {'Timestamp': '2014-10-31T18:00:00',\n",
      "                                       'Value': 119.0009994507},\n",
      "                                      {'Timestamp': '2014-10-31T19:00:00',\n",
      "                                       'Value': 110.5813064575},\n",
      "                                      {'Timestamp': '2014-10-31T20:00:00',\n",
      "                                       'Value': 88.1575546265},\n",
      "                                      {'Timestamp': '2014-10-31T21:00:00',\n",
      "                                       'Value': 57.2130203247},\n",
      "                                      {'Timestamp': '2014-10-31T22:00:00',\n",
      "                                       'Value': 43.9978790283},\n",
      "                                      {'Timestamp': '2014-10-31T23:00:00',\n",
      "                                       'Value': 38.4145317078}],\n",
      "                              'p50': [{'Timestamp': '2014-10-31T00:00:00',\n",
      "                                       'Value': 52.5910377502},\n",
      "                                      {'Timestamp': '2014-10-31T01:00:00',\n",
      "                                       'Value': 49.541595459},\n",
      "                                      {'Timestamp': '2014-10-31T02:00:00',\n",
      "                                       'Value': 47.6550674438},\n",
      "                                      {'Timestamp': '2014-10-31T03:00:00',\n",
      "                                       'Value': 40.4614830017},\n",
      "                                      {'Timestamp': '2014-10-31T04:00:00',\n",
      "                                       'Value': 37.1644363403},\n",
      "                                      {'Timestamp': '2014-10-31T05:00:00',\n",
      "                                       'Value': 36.8857879639},\n",
      "                                      {'Timestamp': '2014-10-31T06:00:00',\n",
      "                                       'Value': 36.8817062378},\n",
      "                                      {'Timestamp': '2014-10-31T07:00:00',\n",
      "                                       'Value': 38.7131919861},\n",
      "                                      {'Timestamp': '2014-10-31T08:00:00',\n",
      "                                       'Value': 57.0710716248},\n",
      "                                      {'Timestamp': '2014-10-31T09:00:00',\n",
      "                                       'Value': 138.2215270996},\n",
      "                                      {'Timestamp': '2014-10-31T10:00:00',\n",
      "                                       'Value': 161.6781616211},\n",
      "                                      {'Timestamp': '2014-10-31T11:00:00',\n",
      "                                       'Value': 153.8658905029},\n",
      "                                      {'Timestamp': '2014-10-31T12:00:00',\n",
      "                                       'Value': 158.5105895996},\n",
      "                                      {'Timestamp': '2014-10-31T13:00:00',\n",
      "                                       'Value': 130.5758666992},\n",
      "                                      {'Timestamp': '2014-10-31T14:00:00',\n",
      "                                       'Value': 114.5861358643},\n",
      "                                      {'Timestamp': '2014-10-31T15:00:00',\n",
      "                                       'Value': 149.9942474365},\n",
      "                                      {'Timestamp': '2014-10-31T16:00:00',\n",
      "                                       'Value': 143.3355255127},\n",
      "                                      {'Timestamp': '2014-10-31T17:00:00',\n",
      "                                       'Value': 136.4684753418},\n",
      "                                      {'Timestamp': '2014-10-31T18:00:00',\n",
      "                                       'Value': 136.4055175781},\n",
      "                                      {'Timestamp': '2014-10-31T19:00:00',\n",
      "                                       'Value': 131.9549560547},\n",
      "                                      {'Timestamp': '2014-10-31T20:00:00',\n",
      "                                       'Value': 110.4514846802},\n",
      "                                      {'Timestamp': '2014-10-31T21:00:00',\n",
      "                                       'Value': 73.5179214478},\n",
      "                                      {'Timestamp': '2014-10-31T22:00:00',\n",
      "                                       'Value': 54.9634628296},\n",
      "                                      {'Timestamp': '2014-10-31T23:00:00',\n",
      "                                       'Value': 48.4420127869}],\n",
      "                              'p90': [{'Timestamp': '2014-10-31T00:00:00',\n",
      "                                       'Value': 57.4671173096},\n",
      "                                      {'Timestamp': '2014-10-31T01:00:00',\n",
      "                                       'Value': 55.0007095337},\n",
      "                                      {'Timestamp': '2014-10-31T02:00:00',\n",
      "                                       'Value': 54.1559906006},\n",
      "                                      {'Timestamp': '2014-10-31T03:00:00',\n",
      "                                       'Value': 46.5227813721},\n",
      "                                      {'Timestamp': '2014-10-31T04:00:00',\n",
      "                                       'Value': 41.3560371399},\n",
      "                                      {'Timestamp': '2014-10-31T05:00:00',\n",
      "                                       'Value': 42.3604850769},\n",
      "                                      {'Timestamp': '2014-10-31T06:00:00',\n",
      "                                       'Value': 44.3886184692},\n",
      "                                      {'Timestamp': '2014-10-31T07:00:00',\n",
      "                                       'Value': 45.7099456787},\n",
      "                                      {'Timestamp': '2014-10-31T08:00:00',\n",
      "                                       'Value': 68.9324874878},\n",
      "                                      {'Timestamp': '2014-10-31T09:00:00',\n",
      "                                       'Value': 156.321395874},\n",
      "                                      {'Timestamp': '2014-10-31T10:00:00',\n",
      "                                       'Value': 188.1130981445},\n",
      "                                      {'Timestamp': '2014-10-31T11:00:00',\n",
      "                                       'Value': 189.7299499512},\n",
      "                                      {'Timestamp': '2014-10-31T12:00:00',\n",
      "                                       'Value': 196.7660064697},\n",
      "                                      {'Timestamp': '2014-10-31T13:00:00',\n",
      "                                       'Value': 161.23487854},\n",
      "                                      {'Timestamp': '2014-10-31T14:00:00',\n",
      "                                       'Value': 143.2967987061},\n",
      "                                      {'Timestamp': '2014-10-31T15:00:00',\n",
      "                                       'Value': 179.7388916016},\n",
      "                                      {'Timestamp': '2014-10-31T16:00:00',\n",
      "                                       'Value': 174.339263916},\n",
      "                                      {'Timestamp': '2014-10-31T17:00:00',\n",
      "                                       'Value': 162.4309082031},\n",
      "                                      {'Timestamp': '2014-10-31T18:00:00',\n",
      "                                       'Value': 169.7253417969},\n",
      "                                      {'Timestamp': '2014-10-31T19:00:00',\n",
      "                                       'Value': 151.9928894043},\n",
      "                                      {'Timestamp': '2014-10-31T20:00:00',\n",
      "                                       'Value': 129.8352508545},\n",
      "                                      {'Timestamp': '2014-10-31T21:00:00',\n",
      "                                       'Value': 84.3836975098},\n",
      "                                      {'Timestamp': '2014-10-31T22:00:00',\n",
      "                                       'Value': 66.6356430054},\n",
      "                                      {'Timestamp': '2014-10-31T23:00:00',\n",
      "                                       'Value': 61.6435089111}]}},\n",
      " 'ResponseMetadata': {'HTTPHeaders': {'connection': 'keep-alive',\n",
      "                                      'content-length': '4255',\n",
      "                                      'content-type': 'application/x-amz-json-1.1',\n",
      "                                      'date': 'Mon, 08 Jul 2024 06:38:26 GMT',\n",
      "                                      'x-amzn-requestid': 'b976b217-123c-441d-ad64-bcfa40537480'},\n",
      "                      'HTTPStatusCode': 200,\n",
      "                      'RequestId': 'b976b217-123c-441d-ad64-bcfa40537480',\n",
      "                      'RetryAttempts': 0}}\n"
     ]
    }
   ],
   "source": [
    "from pprint import pprint\n",
    "print(forecast_arn)\n",
    "print()\n",
    "forecastResponse = forecastquery.query_forecast(\n",
    "    ForecastArn=forecast_arn,\n",
    "    Filters={\"item_id\":\"client_12\"}\n",
    ")\n",
    "pprint(forecastResponse)"
   ]
  },
  {
   "cell_type": "markdown",
   "metadata": {},
   "source": [
    "## Next Steps\n",
    "\n",
    "Now that your forecast has been created, to evaluate it use `3.Evaluating_Your_Predictor.ipynb` but before opening it, execute the cell below to share your variables again with the next notebook."
   ]
  },
  {
   "cell_type": "code",
   "execution_count": 18,
   "metadata": {},
   "outputs": [
    {
     "name": "stdout",
     "output_type": "stream",
     "text": [
      "Stored 'forecast_arn' (str)\n",
      "Stored 'forecast_predictor_arn' (str)\n"
     ]
    }
   ],
   "source": [
    "%store forecast_arn\n",
    "%store forecast_predictor_arn"
   ]
  },
  {
   "cell_type": "code",
   "execution_count": null,
   "metadata": {},
   "outputs": [],
   "source": []
  }
 ],
 "metadata": {
  "kernelspec": {
   "display_name": "Python 3 (ipykernel)",
   "language": "python",
   "name": "python3"
  },
  "language_info": {
   "codemirror_mode": {
    "name": "ipython",
    "version": 3
   },
   "file_extension": ".py",
   "mimetype": "text/x-python",
   "name": "python",
   "nbconvert_exporter": "python",
   "pygments_lexer": "ipython3",
   "version": "3.10.14"
  }
 },
 "nbformat": 4,
 "nbformat_minor": 4
}
