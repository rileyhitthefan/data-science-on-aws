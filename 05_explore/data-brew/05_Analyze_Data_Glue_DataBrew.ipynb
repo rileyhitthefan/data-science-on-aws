{
 "cells": [
  {
   "cell_type": "markdown",
   "metadata": {},
   "source": [
    "# Amazon Glue DataBrew"
   ]
  },
  {
   "cell_type": "markdown",
   "metadata": {},
   "source": [
    "# Prerequisites"
   ]
  },
  {
   "cell_type": "markdown",
   "metadata": {},
   "source": [
    "Add The Following Trust Relationship To Your IAM Role\n",
    "\n",
    "```\n",
    "    {\n",
    "      \"Sid\": \"\",\n",
    "      \"Effect\": \"Allow\",\n",
    "      \"Principal\": {\n",
    "        \"Service\": \"databrew.amazonaws.com\"\n",
    "      },\n",
    "      \"Action\": \"sts:AssumeRole\"\n",
    "    }\n",
    "```\n",
    "\n",
    "and Access Policy For Glue DataBrew."
   ]
  },
  {
   "cell_type": "markdown",
   "metadata": {},
   "source": [
    "# Imports and Settings"
   ]
  },
  {
   "cell_type": "code",
   "execution_count": 1,
   "metadata": {},
   "outputs": [
    {
     "name": "stdout",
     "output_type": "stream",
     "text": [
      "sagemaker.config INFO - Not applying SDK defaults from location: /etc/xdg/sagemaker/config.yaml\n",
      "sagemaker.config INFO - Not applying SDK defaults from location: /home/sagemaker-user/.config/sagemaker/config.yaml\n"
     ]
    }
   ],
   "source": [
    "import sagemaker\n",
    "import boto3\n",
    "\n",
    "sess   = sagemaker.Session()\n",
    "bucket = sess.default_bucket()\n",
    "role = sagemaker.get_execution_role()\n",
    "region = boto3.Session().region_name\n",
    "\n",
    "sts = boto3.Session().client(service_name='sts')\n",
    "db = boto3.Session().client('databrew')"
   ]
  },
  {
   "cell_type": "code",
   "execution_count": 2,
   "metadata": {},
   "outputs": [],
   "source": [
    "account_id = sts.get_caller_identity().get('Account') "
   ]
  },
  {
   "cell_type": "code",
   "execution_count": 3,
   "metadata": {},
   "outputs": [],
   "source": [
    "import json\n",
    "import pandas as pd\n",
    "from botocore.exceptions import ClientError"
   ]
  },
  {
   "cell_type": "markdown",
   "metadata": {},
   "source": [
    "# Create Dataset"
   ]
  },
  {
   "cell_type": "code",
   "execution_count": 4,
   "metadata": {},
   "outputs": [],
   "source": [
    "import time\n",
    "timestamp = int(time.time())"
   ]
  },
  {
   "cell_type": "code",
   "execution_count": 5,
   "metadata": {},
   "outputs": [],
   "source": [
    "dataset_name = 'reviews-dataset-{}'.format(timestamp)\n",
    "input_bucket='sagemaker-us-east-1-992382405090'\n",
    "key='amazon-reviews-pds/tsv/'"
   ]
  },
  {
   "cell_type": "code",
   "execution_count": 6,
   "metadata": {},
   "outputs": [
    {
     "name": "stdout",
     "output_type": "stream",
     "text": [
      "{\n",
      "    \"Name\": \"reviews-dataset-1721203444\",\n",
      "    \"ResponseMetadata\": {\n",
      "        \"HTTPHeaders\": {\n",
      "            \"access-control-allow-headers\": \"*,Content-Type,X-Amz-Date,Authorization,X-Api-Key,X-Amz-Security-Token,X-Amz-Content-Sha256,X-Amz-User-Agent,Date,X-Amz-Target,X-Amzn-Platform-Id,X-Amzn-Trace-Id\",\n",
      "            \"access-control-allow-methods\": \"GET,PUT,POST,DELETE,OPTIONS\",\n",
      "            \"access-control-allow-origin\": \"*\",\n",
      "            \"access-control-expose-headers\": \"X-Amzn-RequestId,X-Amzn-ErrorType,X-Amz-Apigw-Id,X-Amzn-Trace-Id\",\n",
      "            \"access-control-max-age\": \"86400\",\n",
      "            \"connection\": \"keep-alive\",\n",
      "            \"content-length\": \"37\",\n",
      "            \"content-type\": \"application/json\",\n",
      "            \"date\": \"Wed, 17 Jul 2024 08:04:04 GMT\",\n",
      "            \"via\": \"1.1 4a91a321d4c2ab7334c6f285093956ae.cloudfront.net (CloudFront)\",\n",
      "            \"x-amz-apigw-id\": \"bDAmMFh3oAMEfyA=\",\n",
      "            \"x-amz-cf-id\": \"nwx0BrrAwnKDpQG-phZKG13cnWraTmNMOuh_gQsvvJTfXubs3UEmTQ==\",\n",
      "            \"x-amz-cf-pop\": \"IAD12-P1\",\n",
      "            \"x-amzn-requestid\": \"560ef628-cbc9-45e7-877f-0bf332fc2385\",\n",
      "            \"x-amzn-trace-id\": \"Root=1-66977af4-54124b0f1df90b056262a1d2\",\n",
      "            \"x-cache\": \"Miss from cloudfront\"\n",
      "        },\n",
      "        \"HTTPStatusCode\": 200,\n",
      "        \"RequestId\": \"560ef628-cbc9-45e7-877f-0bf332fc2385\",\n",
      "        \"RetryAttempts\": 0\n",
      "    }\n",
      "}\n"
     ]
    }
   ],
   "source": [
    "response = db.create_dataset(\n",
    "    Name=dataset_name,\n",
    "    Input={\n",
    "        'S3InputDefinition': {\n",
    "            'Bucket': input_bucket,\n",
    "            'Key': key\n",
    "        },\n",
    "    },\n",
    ")\n",
    "\n",
    "print(json.dumps(response, indent=4, sort_keys=True, default=str))"
   ]
  },
  {
   "cell_type": "code",
   "execution_count": 7,
   "metadata": {},
   "outputs": [
    {
     "data": {
      "text/html": [
       "<b>Review <a target=\"blank\" href=\"https://console.aws.amazon.com/databrew/home?region=us-east-1#dataset-details?dataset=reviews-dataset-1721203444&tab=preview\">Dataset</a></b>"
      ],
      "text/plain": [
       "<IPython.core.display.HTML object>"
      ]
     },
     "metadata": {},
     "output_type": "display_data"
    }
   ],
   "source": [
    "from IPython.display import display, HTML\n",
    "\n",
    "display(HTML('<b>Review <a target=\"blank\" href=\"https://console.aws.amazon.com/databrew/home?region={}#dataset-details?dataset={}&tab=preview\">Dataset</a></b>'.format(region, dataset_name)))\n"
   ]
  },
  {
   "cell_type": "code",
   "execution_count": 8,
   "metadata": {
    "scrolled": true
   },
   "outputs": [
    {
     "name": "stdout",
     "output_type": "stream",
     "text": [
      "{\n",
      "    \"CreateDate\": \"2024-07-17 08:04:04.213000+00:00\",\n",
      "    \"CreatedBy\": \"arn:aws:sts::992382405090:assumed-role/AmazonSageMaker-ExecutionRole-20240708T091019/SageMaker\",\n",
      "    \"Input\": {\n",
      "        \"S3InputDefinition\": {\n",
      "            \"Bucket\": \"sagemaker-us-east-1-992382405090\",\n",
      "            \"Key\": \"amazon-reviews-pds/tsv/\"\n",
      "        }\n",
      "    },\n",
      "    \"Name\": \"reviews-dataset-1721203444\",\n",
      "    \"ResourceArn\": \"arn:aws:databrew:us-east-1:992382405090:dataset/reviews-dataset-1721203444\",\n",
      "    \"ResponseMetadata\": {\n",
      "        \"HTTPHeaders\": {\n",
      "            \"access-control-allow-headers\": \"*,Content-Type,X-Amz-Date,Authorization,X-Api-Key,X-Amz-Security-Token,X-Amz-Content-Sha256,X-Amz-User-Agent,Date,X-Amz-Target,X-Amzn-Platform-Id,X-Amzn-Trace-Id\",\n",
      "            \"access-control-allow-methods\": \"GET,PUT,POST,DELETE,OPTIONS\",\n",
      "            \"access-control-allow-origin\": \"*\",\n",
      "            \"access-control-expose-headers\": \"X-Amzn-RequestId,X-Amzn-ErrorType,X-Amz-Apigw-Id,X-Amzn-Trace-Id\",\n",
      "            \"access-control-max-age\": \"86400\",\n",
      "            \"connection\": \"keep-alive\",\n",
      "            \"content-length\": \"724\",\n",
      "            \"content-type\": \"application/json\",\n",
      "            \"date\": \"Wed, 17 Jul 2024 08:04:04 GMT\",\n",
      "            \"via\": \"1.1 4a91a321d4c2ab7334c6f285093956ae.cloudfront.net (CloudFront)\",\n",
      "            \"x-amz-apigw-id\": \"bDAmNGlpoAMEAyA=\",\n",
      "            \"x-amz-cf-id\": \"P0EOSJ71PxAb2k5OhZvyj5yu9N_EEoZYRmrwYPaHlhIuoohkTVcAeA==\",\n",
      "            \"x-amz-cf-pop\": \"IAD12-P1\",\n",
      "            \"x-amzn-requestid\": \"b592e461-5680-46d5-a58e-488f76169e90\",\n",
      "            \"x-amzn-trace-id\": \"Root=1-66977af4-244b0f0a2691e9b674345b25\",\n",
      "            \"x-cache\": \"Miss from cloudfront\"\n",
      "        },\n",
      "        \"HTTPStatusCode\": 200,\n",
      "        \"RequestId\": \"b592e461-5680-46d5-a58e-488f76169e90\",\n",
      "        \"RetryAttempts\": 0\n",
      "    },\n",
      "    \"Source\": \"S3\",\n",
      "    \"Tags\": {}\n",
      "}\n"
     ]
    }
   ],
   "source": [
    "response = db.describe_dataset(\n",
    "    Name=dataset_name\n",
    ")\n",
    "\n",
    "print(json.dumps(response, indent=4, sort_keys=True, default=str))"
   ]
  },
  {
   "cell_type": "markdown",
   "metadata": {},
   "source": [
    "## Get Dataset Resource ARN"
   ]
  },
  {
   "cell_type": "code",
   "execution_count": 9,
   "metadata": {},
   "outputs": [
    {
     "name": "stdout",
     "output_type": "stream",
     "text": [
      "reviews-dataset-1721203444\n",
      "arn:aws:databrew:us-east-1:992382405090:dataset/reviews-dataset-1721203444\n"
     ]
    }
   ],
   "source": [
    "dataset_arn = response['ResourceArn']\n",
    "print(dataset_name)\n",
    "print(dataset_arn)"
   ]
  },
  {
   "cell_type": "markdown",
   "metadata": {},
   "source": [
    "# Create Recipe"
   ]
  },
  {
   "cell_type": "code",
   "execution_count": 10,
   "metadata": {},
   "outputs": [],
   "source": [
    "recipe_name='reviews-dataset-recipe-{}'.format(timestamp)"
   ]
  },
  {
   "cell_type": "markdown",
   "metadata": {},
   "source": [
    "# View Recipe File"
   ]
  },
  {
   "cell_type": "code",
   "execution_count": 11,
   "metadata": {
    "scrolled": true
   },
   "outputs": [
    {
     "name": "stdout",
     "output_type": "stream",
     "text": [
      "[\u001b[37m\u001b[39;49;00m\n",
      "\u001b[37m  \u001b[39;49;00m{\u001b[37m\u001b[39;49;00m\n",
      "\u001b[37m    \u001b[39;49;00m\u001b[94m\"Action\"\u001b[39;49;00m:\u001b[37m \u001b[39;49;00m{\u001b[37m\u001b[39;49;00m\n",
      "\u001b[37m      \u001b[39;49;00m\u001b[94m\"Operation\"\u001b[39;49;00m:\u001b[37m \u001b[39;49;00m\u001b[33m\"DELETE\"\u001b[39;49;00m,\u001b[37m\u001b[39;49;00m\n",
      "\u001b[37m      \u001b[39;49;00m\u001b[94m\"Parameters\"\u001b[39;49;00m:\u001b[37m \u001b[39;49;00m{\u001b[37m\u001b[39;49;00m\n",
      "\u001b[37m        \u001b[39;49;00m\u001b[94m\"sourceColumns\"\u001b[39;49;00m:\u001b[37m \u001b[39;49;00m\u001b[33m\"[\\\"marketplace\\\",\\\"customer_id\\\",\\\"review_id\\\",\\\"product_id\\\",\\\"product_parent\\\",\\\"product_title\\\",\\\"helpful_votes\\\",\\\"total_votes\\\",\\\"vine\\\",\\\"verified_purchase\\\",\\\"review_headline\\\",\\\"review_date\\\",\\\"year\\\"]\"\u001b[39;49;00m\u001b[37m\u001b[39;49;00m\n",
      "\u001b[37m      \u001b[39;49;00m}\u001b[37m\u001b[39;49;00m\n",
      "\u001b[37m    \u001b[39;49;00m}\u001b[37m\u001b[39;49;00m\n",
      "\u001b[37m  \u001b[39;49;00m}\u001b[37m\u001b[39;49;00m\n",
      "]\u001b[37m\u001b[39;49;00m\n"
     ]
    }
   ],
   "source": [
    "!pygmentize ./amazon-reviews-dataset-recipe.json"
   ]
  },
  {
   "cell_type": "markdown",
   "metadata": {},
   "source": [
    "# Load Recipe File"
   ]
  },
  {
   "cell_type": "code",
   "execution_count": 12,
   "metadata": {
    "scrolled": true
   },
   "outputs": [
    {
     "name": "stdout",
     "output_type": "stream",
     "text": [
      "[\n",
      "    {\n",
      "        \"Action\": {\n",
      "            \"Operation\": \"DELETE\",\n",
      "            \"Parameters\": {\n",
      "                \"sourceColumns\": \"[\\\"marketplace\\\",\\\"customer_id\\\",\\\"review_id\\\",\\\"product_id\\\",\\\"product_parent\\\",\\\"product_title\\\",\\\"helpful_votes\\\",\\\"total_votes\\\",\\\"vine\\\",\\\"verified_purchase\\\",\\\"review_headline\\\",\\\"review_date\\\",\\\"year\\\"]\"\n",
      "            }\n",
      "        }\n",
      "    }\n",
      "]\n"
     ]
    }
   ],
   "source": [
    "# Read file\n",
    "with open('./amazon-reviews-dataset-recipe.json', 'r') as file:\n",
    "    file_object=file.read()\n",
    "\n",
    "# Parse file\n",
    "recipe_steps = json.loads(file_object)\n",
    "\n",
    "print(json.dumps(recipe_steps, indent=4, sort_keys=True, default=str))"
   ]
  },
  {
   "cell_type": "markdown",
   "metadata": {},
   "source": [
    "# Create Recipe From File"
   ]
  },
  {
   "cell_type": "code",
   "execution_count": 13,
   "metadata": {},
   "outputs": [],
   "source": [
    "response = db.create_recipe(\n",
    "    Description='Amazon Customers Reviews Recipe',\n",
    "    Name=recipe_name,\n",
    "    Steps=recipe_steps\n",
    ")"
   ]
  },
  {
   "cell_type": "code",
   "execution_count": 14,
   "metadata": {},
   "outputs": [
    {
     "name": "stdout",
     "output_type": "stream",
     "text": [
      "{\n",
      "    \"Name\": \"reviews-dataset-recipe-1721203444\",\n",
      "    \"ResponseMetadata\": {\n",
      "        \"HTTPHeaders\": {\n",
      "            \"access-control-allow-headers\": \"*,Content-Type,X-Amz-Date,Authorization,X-Api-Key,X-Amz-Security-Token,X-Amz-Content-Sha256,X-Amz-User-Agent,Date,X-Amz-Target,X-Amzn-Platform-Id,X-Amzn-Trace-Id\",\n",
      "            \"access-control-allow-methods\": \"GET,PUT,POST,DELETE,OPTIONS\",\n",
      "            \"access-control-allow-origin\": \"*\",\n",
      "            \"access-control-expose-headers\": \"X-Amzn-RequestId,X-Amzn-ErrorType,X-Amz-Apigw-Id,X-Amzn-Trace-Id\",\n",
      "            \"access-control-max-age\": \"86400\",\n",
      "            \"connection\": \"keep-alive\",\n",
      "            \"content-length\": \"44\",\n",
      "            \"content-type\": \"application/json\",\n",
      "            \"date\": \"Wed, 17 Jul 2024 08:04:05 GMT\",\n",
      "            \"via\": \"1.1 4a91a321d4c2ab7334c6f285093956ae.cloudfront.net (CloudFront)\",\n",
      "            \"x-amz-apigw-id\": \"bDAmYFOvIAMEYVw=\",\n",
      "            \"x-amz-cf-id\": \"v3GCFmIuUIeQs8oVYglL9P8nliDaf1ra_fGu4-y0dO_hKGgAIaclVg==\",\n",
      "            \"x-amz-cf-pop\": \"IAD12-P1\",\n",
      "            \"x-amzn-requestid\": \"e7a20147-dd75-4787-b40c-90f77bf30708\",\n",
      "            \"x-amzn-trace-id\": \"Root=1-66977af5-025e8f1054040c5977307ef0\",\n",
      "            \"x-cache\": \"Miss from cloudfront\"\n",
      "        },\n",
      "        \"HTTPStatusCode\": 200,\n",
      "        \"RequestId\": \"e7a20147-dd75-4787-b40c-90f77bf30708\",\n",
      "        \"RetryAttempts\": 0\n",
      "    }\n",
      "}\n"
     ]
    }
   ],
   "source": [
    "print(json.dumps(response, indent=4, sort_keys=True, default=str))"
   ]
  },
  {
   "cell_type": "markdown",
   "metadata": {},
   "source": [
    "## Create Project"
   ]
  },
  {
   "cell_type": "code",
   "execution_count": 15,
   "metadata": {},
   "outputs": [],
   "source": [
    "project_name = 'reviews-dataset-project-{}'.format(timestamp)"
   ]
  },
  {
   "cell_type": "code",
   "execution_count": 16,
   "metadata": {},
   "outputs": [],
   "source": [
    "response = db.create_project(\n",
    "    DatasetName=dataset_name,\n",
    "    Name=project_name,\n",
    "    RecipeName=recipe_name,\n",
    "    Sample={\n",
    "        'Size': 500,\n",
    "        'Type': 'FIRST_N'\n",
    "    },\n",
    "    RoleArn=role\n",
    ")"
   ]
  },
  {
   "cell_type": "code",
   "execution_count": 17,
   "metadata": {},
   "outputs": [
    {
     "name": "stdout",
     "output_type": "stream",
     "text": [
      "{\n",
      "    \"Name\": \"reviews-dataset-project-1721203444\",\n",
      "    \"ResponseMetadata\": {\n",
      "        \"HTTPHeaders\": {\n",
      "            \"access-control-allow-headers\": \"*,Content-Type,X-Amz-Date,Authorization,X-Api-Key,X-Amz-Security-Token,X-Amz-Content-Sha256,X-Amz-User-Agent,Date,X-Amz-Target,X-Amzn-Platform-Id,X-Amzn-Trace-Id\",\n",
      "            \"access-control-allow-methods\": \"GET,PUT,POST,DELETE,OPTIONS\",\n",
      "            \"access-control-allow-origin\": \"*\",\n",
      "            \"access-control-expose-headers\": \"X-Amzn-RequestId,X-Amzn-ErrorType,X-Amz-Apigw-Id,X-Amzn-Trace-Id\",\n",
      "            \"access-control-max-age\": \"86400\",\n",
      "            \"connection\": \"keep-alive\",\n",
      "            \"content-length\": \"45\",\n",
      "            \"content-type\": \"application/json\",\n",
      "            \"date\": \"Wed, 17 Jul 2024 08:04:05 GMT\",\n",
      "            \"via\": \"1.1 4a91a321d4c2ab7334c6f285093956ae.cloudfront.net (CloudFront)\",\n",
      "            \"x-amz-apigw-id\": \"bDAmZGA_IAMEPVQ=\",\n",
      "            \"x-amz-cf-id\": \"fs8i9_6cc1JlNpuoBP7iu6UJNMMhttEzvJPEwxD6G0L15a-lCm0tYA==\",\n",
      "            \"x-amz-cf-pop\": \"IAD12-P1\",\n",
      "            \"x-amzn-requestid\": \"a52e27a2-eba3-4b23-a4e9-ebeeced687e2\",\n",
      "            \"x-amzn-trace-id\": \"Root=1-66977af5-43845b383a635ae418a827db\",\n",
      "            \"x-cache\": \"Miss from cloudfront\"\n",
      "        },\n",
      "        \"HTTPStatusCode\": 200,\n",
      "        \"RequestId\": \"a52e27a2-eba3-4b23-a4e9-ebeeced687e2\",\n",
      "        \"RetryAttempts\": 0\n",
      "    }\n",
      "}\n"
     ]
    }
   ],
   "source": [
    "print(json.dumps(response, indent=4, sort_keys=True, default=str))"
   ]
  },
  {
   "cell_type": "code",
   "execution_count": 18,
   "metadata": {},
   "outputs": [
    {
     "data": {
      "text/html": [
       "<b>Review <a target=\"blank\" href=\"https://console.aws.amazon.com/databrew/home?region=us-east-1#project-workspace?project=reviews-dataset-project-1721203444&view=grid\">Project</a></b>"
      ],
      "text/plain": [
       "<IPython.core.display.HTML object>"
      ]
     },
     "metadata": {},
     "output_type": "display_data"
    }
   ],
   "source": [
    "from IPython.display import display, HTML\n",
    "\n",
    "display(HTML('<b>Review <a target=\"blank\" href=\"https://console.aws.amazon.com/databrew/home?region={}#project-workspace?project={}&view=grid\">Project</a></b>'.format(region, project_name)))"
   ]
  },
  {
   "cell_type": "markdown",
   "metadata": {},
   "source": [
    "# Create Recipe Job"
   ]
  },
  {
   "cell_type": "code",
   "execution_count": 19,
   "metadata": {},
   "outputs": [],
   "source": [
    "job_name = 'reviews-dataset-recipe-job-{}'.format(timestamp)\n",
    "output_bucket = bucket\n",
    "output_key = 'databrew/'"
   ]
  },
  {
   "cell_type": "markdown",
   "metadata": {},
   "source": [
    "# TODO: Add Data Brew Trust Relation to IAM Role"
   ]
  },
  {
   "cell_type": "code",
   "execution_count": 20,
   "metadata": {},
   "outputs": [
    {
     "name": "stdout",
     "output_type": "stream",
     "text": [
      "{\n",
      "    \"Name\": \"reviews-dataset-recipe-job-1721203444\",\n",
      "    \"ResponseMetadata\": {\n",
      "        \"HTTPHeaders\": {\n",
      "            \"access-control-allow-headers\": \"*,Content-Type,X-Amz-Date,Authorization,X-Api-Key,X-Amz-Security-Token,X-Amz-Content-Sha256,X-Amz-User-Agent,Date,X-Amz-Target,X-Amzn-Platform-Id,X-Amzn-Trace-Id\",\n",
      "            \"access-control-allow-methods\": \"GET,PUT,POST,DELETE,OPTIONS\",\n",
      "            \"access-control-allow-origin\": \"*\",\n",
      "            \"access-control-expose-headers\": \"X-Amzn-RequestId,X-Amzn-ErrorType,X-Amz-Apigw-Id,X-Amzn-Trace-Id\",\n",
      "            \"access-control-max-age\": \"86400\",\n",
      "            \"connection\": \"keep-alive\",\n",
      "            \"content-length\": \"48\",\n",
      "            \"content-type\": \"application/json\",\n",
      "            \"date\": \"Wed, 17 Jul 2024 08:04:06 GMT\",\n",
      "            \"via\": \"1.1 4a91a321d4c2ab7334c6f285093956ae.cloudfront.net (CloudFront)\",\n",
      "            \"x-amz-apigw-id\": \"bDAmcHSfIAMEBUQ=\",\n",
      "            \"x-amz-cf-id\": \"qyx__VS1JEVYEMK5P9rno2XU8T970PLcku-sQrPsCS0K1kcZ9SyHIw==\",\n",
      "            \"x-amz-cf-pop\": \"IAD12-P1\",\n",
      "            \"x-amzn-requestid\": \"9961a1fb-065d-4e96-ac26-7a0511524e62\",\n",
      "            \"x-amzn-trace-id\": \"Root=1-66977af5-599e01851f7f22ba0b2e571f\",\n",
      "            \"x-cache\": \"Miss from cloudfront\"\n",
      "        },\n",
      "        \"HTTPStatusCode\": 200,\n",
      "        \"RequestId\": \"9961a1fb-065d-4e96-ac26-7a0511524e62\",\n",
      "        \"RetryAttempts\": 0\n",
      "    }\n",
      "}\n"
     ]
    }
   ],
   "source": [
    "response = db.create_recipe_job(\n",
    "#    DatasetName=dataset_name,\n",
    "    Name=job_name,\n",
    "    LogSubscription='ENABLE',\n",
    "    MaxCapacity=10,\n",
    "    MaxRetries=0,\n",
    "    Outputs=[\n",
    "        {\n",
    "            'Format': 'CSV',\n",
    "            'PartitionColumns': [],\n",
    "            'Location': {\n",
    "                'Bucket': output_bucket,\n",
    "                'Key': output_key\n",
    "            },\n",
    "            'Overwrite': True\n",
    "        },\n",
    "    ],\n",
    "    ProjectName=project_name,\n",
    "#     RecipeReference={\n",
    "#         'Name': recipe_name\n",
    "#     },\n",
    "    RoleArn=role,\n",
    "    Timeout=2880\n",
    ")\n",
    "\n",
    "print(json.dumps(response, indent=4, sort_keys=True, default=str))"
   ]
  },
  {
   "cell_type": "code",
   "execution_count": 21,
   "metadata": {},
   "outputs": [
    {
     "data": {
      "text/html": [
       "<b>Review <a target=\"blank\" href=\"https://console.aws.amazon.com/databrew/home?region=us-east-1#job-details?job=reviews-dataset-recipe-job-1721203444&tab=history\">Recipe Job</a></b>"
      ],
      "text/plain": [
       "<IPython.core.display.HTML object>"
      ]
     },
     "metadata": {},
     "output_type": "display_data"
    }
   ],
   "source": [
    "from IPython.display import display, HTML\n",
    "\n",
    "display(HTML('<b>Review <a target=\"blank\" href=\"https://console.aws.amazon.com/databrew/home?region={}#job-details?job={}&tab=history\">Recipe Job</a></b>'.format(region, job_name)))\n"
   ]
  },
  {
   "cell_type": "markdown",
   "metadata": {},
   "source": [
    "# Start Job Run"
   ]
  },
  {
   "cell_type": "code",
   "execution_count": 22,
   "metadata": {},
   "outputs": [
    {
     "name": "stdout",
     "output_type": "stream",
     "text": [
      "{\n",
      "    \"ResponseMetadata\": {\n",
      "        \"HTTPHeaders\": {\n",
      "            \"access-control-allow-headers\": \"*,Content-Type,X-Amz-Date,Authorization,X-Api-Key,X-Amz-Security-Token,X-Amz-Content-Sha256,X-Amz-User-Agent,Date,X-Amz-Target,X-Amzn-Platform-Id,X-Amzn-Trace-Id\",\n",
      "            \"access-control-allow-methods\": \"GET,PUT,POST,DELETE,OPTIONS\",\n",
      "            \"access-control-allow-origin\": \"*\",\n",
      "            \"access-control-expose-headers\": \"X-Amzn-RequestId,X-Amzn-ErrorType,X-Amz-Apigw-Id,X-Amzn-Trace-Id\",\n",
      "            \"access-control-max-age\": \"86400\",\n",
      "            \"connection\": \"keep-alive\",\n",
      "            \"content-length\": \"79\",\n",
      "            \"content-type\": \"application/json\",\n",
      "            \"date\": \"Wed, 17 Jul 2024 08:04:07 GMT\",\n",
      "            \"via\": \"1.1 4a91a321d4c2ab7334c6f285093956ae.cloudfront.net (CloudFront)\",\n",
      "            \"x-amz-apigw-id\": \"bDAmiEIWoAMEgeg=\",\n",
      "            \"x-amz-cf-id\": \"9m3tPufp1N67YJT2Qcg61Kj4GITOZK7fySL4B7Eh9ZZImg3jABUx1A==\",\n",
      "            \"x-amz-cf-pop\": \"IAD12-P1\",\n",
      "            \"x-amzn-requestid\": \"20edb0ed-2a44-4c7e-baa1-a7424ed888b0\",\n",
      "            \"x-amzn-trace-id\": \"Root=1-66977af6-2ddef92048c204a73b629403\",\n",
      "            \"x-cache\": \"Miss from cloudfront\"\n",
      "        },\n",
      "        \"HTTPStatusCode\": 200,\n",
      "        \"RequestId\": \"20edb0ed-2a44-4c7e-baa1-a7424ed888b0\",\n",
      "        \"RetryAttempts\": 0\n",
      "    },\n",
      "    \"RunId\": \"db_0c415b98d52a5833dcf3b0f8b3c73ea21bfb70d71bf9b57473e3886a4fb8a06d\"\n",
      "}\n"
     ]
    }
   ],
   "source": [
    "response = db.start_job_run(\n",
    "    Name=job_name\n",
    ")\n",
    "\n",
    "print(json.dumps(response, indent=4, sort_keys=True, default=str))"
   ]
  },
  {
   "cell_type": "markdown",
   "metadata": {},
   "source": [
    "# Get Job Run ID"
   ]
  },
  {
   "cell_type": "code",
   "execution_count": 23,
   "metadata": {},
   "outputs": [
    {
     "name": "stdout",
     "output_type": "stream",
     "text": [
      "db_0c415b98d52a5833dcf3b0f8b3c73ea21bfb70d71bf9b57473e3886a4fb8a06d\n"
     ]
    }
   ],
   "source": [
    "job_run_id = response['RunId']\n",
    "print(job_run_id)"
   ]
  },
  {
   "cell_type": "markdown",
   "metadata": {},
   "source": [
    "# List Job Run"
   ]
  },
  {
   "cell_type": "code",
   "execution_count": 24,
   "metadata": {},
   "outputs": [
    {
     "name": "stdout",
     "output_type": "stream",
     "text": [
      "{\n",
      "    \"JobRuns\": [\n",
      "        {\n",
      "            \"Attempt\": 0,\n",
      "            \"DatasetName\": \"reviews-dataset-1721203444\",\n",
      "            \"ExecutionTime\": 0,\n",
      "            \"JobName\": \"reviews-dataset-recipe-job-1721203444\",\n",
      "            \"LogGroupName\": \"/aws-glue-databrew/jobs-reviews-dataset-recipe-job-1721203444\",\n",
      "            \"LogSubscription\": \"ENABLE\",\n",
      "            \"Outputs\": [\n",
      "                {\n",
      "                    \"Format\": \"CSV\",\n",
      "                    \"FormatOptions\": {\n",
      "                        \"Csv\": {\n",
      "                            \"Delimiter\": \",\"\n",
      "                        }\n",
      "                    },\n",
      "                    \"Location\": {\n",
      "                        \"Bucket\": \"sagemaker-us-east-1-992382405090\",\n",
      "                        \"BucketOwner\": \"992382405090\",\n",
      "                        \"Key\": \"databrew/\"\n",
      "                    },\n",
      "                    \"Overwrite\": true,\n",
      "                    \"PartitionColumns\": []\n",
      "                }\n",
      "            ],\n",
      "            \"RecipeReference\": {\n",
      "                \"Name\": \"reviews-dataset-recipe-1721203444\",\n",
      "                \"RecipeVersion\": \"LATEST_WORKING\"\n",
      "            },\n",
      "            \"RunId\": \"db_0c415b98d52a5833dcf3b0f8b3c73ea21bfb70d71bf9b57473e3886a4fb8a06d\",\n",
      "            \"StartedBy\": \"arn:aws:sts::992382405090:assumed-role/AmazonSageMaker-ExecutionRole-20240708T091019/SageMaker\",\n",
      "            \"StartedOn\": \"2024-07-17 08:04:06.970000+00:00\",\n",
      "            \"State\": \"RUNNING\"\n",
      "        }\n",
      "    ],\n",
      "    \"ResponseMetadata\": {\n",
      "        \"HTTPHeaders\": {\n",
      "            \"access-control-allow-headers\": \"*,Content-Type,X-Amz-Date,Authorization,X-Api-Key,X-Amz-Security-Token,X-Amz-Content-Sha256,X-Amz-User-Agent,Date,X-Amz-Target,X-Amzn-Platform-Id,X-Amzn-Trace-Id\",\n",
      "            \"access-control-allow-methods\": \"GET,PUT,POST,DELETE,OPTIONS\",\n",
      "            \"access-control-allow-origin\": \"*\",\n",
      "            \"access-control-expose-headers\": \"X-Amzn-RequestId,X-Amzn-ErrorType,X-Amz-Apigw-Id,X-Amzn-Trace-Id\",\n",
      "            \"access-control-max-age\": \"86400\",\n",
      "            \"connection\": \"keep-alive\",\n",
      "            \"content-length\": \"988\",\n",
      "            \"content-type\": \"application/json\",\n",
      "            \"date\": \"Wed, 17 Jul 2024 08:04:07 GMT\",\n",
      "            \"via\": \"1.1 4a91a321d4c2ab7334c6f285093956ae.cloudfront.net (CloudFront)\",\n",
      "            \"x-amz-apigw-id\": \"bDAmpFrLIAMEQ9Q=\",\n",
      "            \"x-amz-cf-id\": \"xXF8YnNTZKAoNkKCtiwV4zhgNbv6Pu9jaLshTZJR98IdeA06U9IvoQ==\",\n",
      "            \"x-amz-cf-pop\": \"IAD12-P1\",\n",
      "            \"x-amzn-requestid\": \"a25fa349-f233-404f-bafc-cb65a8cfe1e0\",\n",
      "            \"x-amzn-trace-id\": \"Root=1-66977af7-0389f98f4731549a73af25bf\",\n",
      "            \"x-cache\": \"Miss from cloudfront\"\n",
      "        },\n",
      "        \"HTTPStatusCode\": 200,\n",
      "        \"RequestId\": \"a25fa349-f233-404f-bafc-cb65a8cfe1e0\",\n",
      "        \"RetryAttempts\": 0\n",
      "    }\n",
      "}\n"
     ]
    }
   ],
   "source": [
    "response = db.list_job_runs(\n",
    "    Name=job_name\n",
    ")\n",
    "\n",
    "print(json.dumps(response, indent=4, sort_keys=True, default=str))"
   ]
  },
  {
   "cell_type": "code",
   "execution_count": 25,
   "metadata": {},
   "outputs": [
    {
     "name": "stdout",
     "output_type": "stream",
     "text": [
      "RUNNING\n"
     ]
    }
   ],
   "source": [
    "status = response['JobRuns'][0]['State']\n",
    "print(status)"
   ]
  },
  {
   "cell_type": "markdown",
   "metadata": {},
   "source": [
    "# _Wait For The Job Run To Complete. The Job Runs For About 30min._"
   ]
  },
  {
   "cell_type": "code",
   "execution_count": 26,
   "metadata": {
    "scrolled": true
   },
   "outputs": [
    {
     "name": "stdout",
     "output_type": "stream",
     "text": [
      "Job Run State: RUNNING\n",
      "Job Run State: RUNNING\n",
      "Job Run State: RUNNING\n",
      "Job Run State: RUNNING\n",
      "Job Run State: RUNNING\n",
      "Job Run State: RUNNING\n",
      "Job Run State: RUNNING\n",
      "Job Run State: RUNNING\n",
      "Job Run State: RUNNING\n",
      "Job Run State: RUNNING\n",
      "Job Run State: RUNNING\n",
      "Job Run State: RUNNING\n",
      "Job Run State: FAILED\n",
      "CPU times: user 60.9 ms, sys: 6.93 ms, total: 67.8 ms\n",
      "Wall time: 3min 16s\n"
     ]
    }
   ],
   "source": [
    "%%time\n",
    "\n",
    "import time\n",
    "\n",
    "response = db.list_job_runs(Name=job_name)\n",
    "\n",
    "while response['JobRuns'][0]['State'] == 'RUNNING':\n",
    "    response = db.list_job_runs(Name=job_name)\n",
    "    status = response['JobRuns'][0]['State']\n",
    "    print('Job Run State: {}'.format(status))\n",
    "    time.sleep(15)"
   ]
  },
  {
   "cell_type": "markdown",
   "metadata": {},
   "source": [
    "# Review S3 Bucket With CSV File"
   ]
  },
  {
   "cell_type": "code",
   "execution_count": 27,
   "metadata": {},
   "outputs": [
    {
     "data": {
      "text/html": [
       "<b>Review <a target=\"blank\" href=\"https://console.aws.amazon.com/s3/buckets/sagemaker-us-east-1-992382405090?region=us-east-1&prefix=databrew/\">S3 Bucket</a></b>"
      ],
      "text/plain": [
       "<IPython.core.display.HTML object>"
      ]
     },
     "metadata": {},
     "output_type": "display_data"
    }
   ],
   "source": [
    "from IPython.display import display, HTML\n",
    "\n",
    "display(HTML('<b>Review <a target=\"blank\" href=\"https://console.aws.amazon.com/s3/buckets/{}?region={}&prefix={}\">S3 Bucket</a></b>'.format(output_bucket, region, output_key)))"
   ]
  },
  {
   "cell_type": "markdown",
   "metadata": {},
   "source": [
    "# Show the CSV Files"
   ]
  },
  {
   "cell_type": "code",
   "execution_count": 28,
   "metadata": {},
   "outputs": [
    {
     "name": "stdout",
     "output_type": "stream",
     "text": [
      "reviews-dataset-recipe-job-1721203444_part00000.csv\n"
     ]
    }
   ],
   "source": [
    "part_file='{}_part00000.csv'.format(job_name)\n",
    "print(part_file)"
   ]
  },
  {
   "cell_type": "code",
   "execution_count": 29,
   "metadata": {},
   "outputs": [
    {
     "name": "stdout",
     "output_type": "stream",
     "text": [
      "sagemaker-us-east-1-992382405090/databrew/\n"
     ]
    }
   ],
   "source": [
    "s3_output_bucket='{}/{}'.format(output_bucket, output_key)\n",
    "print(s3_output_bucket)"
   ]
  },
  {
   "cell_type": "code",
   "execution_count": null,
   "metadata": {},
   "outputs": [],
   "source": [
    "!aws s3 cp s3://$s3_output_bucket$part_file ./"
   ]
  },
  {
   "cell_type": "code",
   "execution_count": null,
   "metadata": {},
   "outputs": [],
   "source": [
    "import csv\n",
    "\n",
    "df_reviews = pd.read_csv('./amazon-customer-reviews-dataset-recipe-job_part00000.csv')"
   ]
  },
  {
   "cell_type": "code",
   "execution_count": null,
   "metadata": {},
   "outputs": [],
   "source": [
    "df_reviews.head()"
   ]
  },
  {
   "cell_type": "code",
   "execution_count": null,
   "metadata": {},
   "outputs": [],
   "source": [
    "%%javascript\n",
    "\n",
    "try {\n",
    "    Jupyter.notebook.save_checkpoint();\n",
    "    Jupyter.notebook.session.delete();\n",
    "}\n",
    "catch(err) {\n",
    "    // NoOp\n",
    "}"
   ]
  }
 ],
 "metadata": {
  "instance_type": "ml.t3.medium",
  "kernelspec": {
   "display_name": "Python 3 (ipykernel)",
   "language": "python",
   "name": "python3"
  },
  "language_info": {
   "codemirror_mode": {
    "name": "ipython",
    "version": 3
   },
   "file_extension": ".py",
   "mimetype": "text/x-python",
   "name": "python",
   "nbconvert_exporter": "python",
   "pygments_lexer": "ipython3",
   "version": "3.10.14"
  }
 },
 "nbformat": 4,
 "nbformat_minor": 4
}
