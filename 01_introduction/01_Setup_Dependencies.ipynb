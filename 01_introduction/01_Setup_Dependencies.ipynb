{
 "cells": [
  {
   "cell_type": "markdown",
   "metadata": {},
   "source": [
    "# Setup All Workshop Dependencies\n",
    "\n",
    "## _Note:  This Notebook Will Take A Few Minutes To Complete._\n",
    "\n",
    "## _Please Be Patient._"
   ]
  },
  {
   "cell_type": "code",
   "execution_count": 1,
   "metadata": {},
   "outputs": [
    {
     "name": "stdout",
     "output_type": "stream",
     "text": [
      "Python 3.10.14\n"
     ]
    }
   ],
   "source": [
    "!python --version"
   ]
  },
  {
   "cell_type": "code",
   "execution_count": 2,
   "metadata": {
    "scrolled": true
   },
   "outputs": [
    {
     "name": "stdout",
     "output_type": "stream",
     "text": [
      "Package                                 Version\n",
      "--------------------------------------- ----------------\n",
      "absl-py                                 2.1.0\n",
      "accelerate                              0.21.0\n",
      "aiobotocore                             2.13.1\n",
      "aiohttp                                 3.9.5\n",
      "aioitertools                            0.11.0\n",
      "aiosignal                               1.3.1\n",
      "aiosqlite                               0.19.0\n",
      "altair                                  5.3.0\n",
      "amazon-q-developer-jupyterlab-ext       3.1.0\n",
      "amazon_sagemaker_jupyter_ai_q_developer 1.0.4\n",
      "amazon_sagemaker_jupyter_scheduler      3.1.0\n",
      "amazon-sagemaker-sql-editor             0.1.9\n",
      "amazon-sagemaker-sql-execution          0.1.5\n",
      "amazon-sagemaker-sql-magic              0.1.3\n",
      "annotated-types                         0.7.0\n",
      "ansi2html                               0.0.0\n",
      "ansicolors                              1.1.8\n",
      "antlr4-python3-runtime                  4.9.3\n",
      "anyio                                   4.4.0\n",
      "archspec                                0.2.3\n",
      "argon2-cffi                             23.1.0\n",
      "argon2-cffi-bindings                    21.2.0\n",
      "arrow                                   1.3.0\n",
      "asn1crypto                              1.5.1\n",
      "astroid                                 3.2.2\n",
      "asttokens                               2.4.1\n",
      "astunparse                              1.6.3\n",
      "async-lru                               2.0.4\n",
      "async-timeout                           4.0.3\n",
      "attrs                                   23.2.0\n",
      "autogluon                               0.8.3\n",
      "autogluon.common                        0.8.3\n",
      "autogluon.core                          0.8.3\n",
      "autogluon.features                      0.8.3\n",
      "autogluon.multimodal                    0.8.3\n",
      "autogluon.tabular                       0.8.3\n",
      "autogluon.timeseries                    0.8.3\n",
      "autopep8                                2.0.4\n",
      "autovizwidget                           0.21.0\n",
      "aws-embedded-metrics                    3.2.0\n",
      "aws-glue-sessions                       1.0.6\n",
      "Babel                                   2.14.0\n",
      "bcrypt                                  4.1.3\n",
      "beautifulsoup4                          4.12.3\n",
      "binaryornot                             0.4.4\n",
      "bleach                                  6.1.0\n",
      "blinker                                 1.8.2\n",
      "blis                                    0.7.10\n",
      "boltons                                 24.0.0\n",
      "boto3                                   1.34.142\n",
      "botocore                                1.34.142\n",
      "Brotli                                  1.1.0\n",
      "cached-property                         1.5.2\n",
      "cachetools                              5.3.3\n",
      "candidate_data_processors               1.0.0\n",
      "catalogue                               2.0.10\n",
      "catboost                                1.2.5\n",
      "certifi                                 2024.6.2\n",
      "cffi                                    1.16.0\n",
      "chardet                                 5.2.0\n",
      "charset-normalizer                      3.3.2\n",
      "click                                   8.1.7\n",
      "cloudpathlib                            0.16.0\n",
      "cloudpickle                             2.2.1\n",
      "colorama                                0.4.6\n",
      "comm                                    0.2.2\n",
      "conda                                   23.11.0\n",
      "conda-libmamba-solver                   24.1.0\n",
      "conda-package-handling                  2.3.0\n",
      "conda_package_streaming                 0.10.0\n",
      "confection                              0.1.4\n",
      "contextlib2                             21.6.0\n",
      "contourpy                               1.2.1\n",
      "cookiecutter                            2.6.0\n",
      "croniter                                1.4.1\n",
      "cryptography                            42.0.8\n",
      "cycler                                  0.12.1\n",
      "cymem                                   2.0.8\n",
      "cytoolz                                 0.12.3\n",
      "dash                                    2.17.1\n",
      "dask                                    2024.6.2\n",
      "dataclasses-json                        0.6.7\n",
      "datasets                                2.20.0\n",
      "debugpy                                 1.8.1\n",
      "decorator                               5.1.1\n",
      "deepmerge                               1.1.1\n",
      "defusedxml                              0.7.1\n",
      "dill                                    0.3.8\n",
      "diskcache                               5.6.3\n",
      "distributed                             2024.6.2\n",
      "distro                                  1.9.0\n",
      "dm-tree                                 0.1.8\n",
      "docker                                  7.1.0\n",
      "docstring-to-markdown                   0.15\n",
      "entrypoints                             0.4\n",
      "evaluate                                0.4.1\n",
      "exceptiongroup                          1.2.0\n",
      "executing                               2.0.1\n",
      "faiss                                   1.7.4\n",
      "fastai                                  2.7.15\n",
      "fastapi                                 0.110.3\n",
      "fastcore                                1.5.48\n",
      "fastdownload                            0.0.7\n",
      "fastjsonschema                          2.20.0\n",
      "fastprogress                            1.0.3\n",
      "filelock                                3.15.4\n",
      "flake8                                  7.0.0\n",
      "Flask                                   3.0.3\n",
      "flatbuffers                             24.3.25\n",
      "fonttools                               4.53.0\n",
      "fqdn                                    1.5.1\n",
      "frozenlist                              1.4.1\n",
      "fsspec                                  2023.6.0\n",
      "future                                  1.0.0\n",
      "gast                                    0.5.4\n",
      "gdown                                   5.2.0\n",
      "gitdb                                   4.0.11\n",
      "GitPython                               3.1.43\n",
      "gluonts                                 0.13.7\n",
      "gmpy2                                   2.1.5\n",
      "google-auth                             2.30.0\n",
      "google-auth-oauthlib                    1.2.0\n",
      "google-pasta                            0.2.0\n",
      "graphviz                                0.20.3\n",
      "greenlet                                3.0.3\n",
      "grpcio                                  1.59.3\n",
      "gssapi                                  1.8.3\n",
      "h11                                     0.14.0\n",
      "h2                                      4.1.0\n",
      "h5py                                    3.11.0\n",
      "hdijupyterutils                         0.21.0\n",
      "hpack                                   4.0.0\n",
      "httpcore                                1.0.5\n",
      "httpx                                   0.27.0\n",
      "huggingface_hub                         0.23.4\n",
      "hyperframe                              6.0.1\n",
      "idna                                    3.7\n",
      "imagecodecs                             2024.1.1\n",
      "imageio                                 2.34.2\n",
      "importlib-metadata                      6.10.0\n",
      "importlib_resources                     6.4.0\n",
      "ipykernel                               6.29.4\n",
      "ipython                                 8.25.0\n",
      "ipywidgets                              8.1.3\n",
      "isoduration                             20.11.0\n",
      "isort                                   5.13.2\n",
      "itsdangerous                            2.2.0\n",
      "jedi                                    0.19.1\n",
      "Jinja2                                  3.1.4\n",
      "jmespath                                1.0.1\n",
      "joblib                                  1.4.2\n",
      "json5                                   0.9.25\n",
      "jsonpatch                               1.33\n",
      "jsonpath-ng                             1.6.1\n",
      "jsonpointer                             3.0.0\n",
      "jsonschema                              4.17.3\n",
      "jupyter                                 1.0.0\n",
      "jupyter_ai                              2.18.1\n",
      "jupyter_ai_magics                       2.18.1\n",
      "jupyter_client                          8.6.2\n",
      "jupyter_collaboration                   1.1.0\n",
      "jupyter-console                         6.6.3\n",
      "jupyter_core                            5.7.2\n",
      "jupyter-dash                            0.4.2\n",
      "jupyter-events                          0.6.3\n",
      "jupyter-lsp                             2.2.5\n",
      "jupyter_scheduler                       2.7.1\n",
      "jupyter_server                          2.10.0\n",
      "jupyter_server_fileid                   0.9.2\n",
      "jupyter-server-mathjax                  0.2.6\n",
      "jupyter_server_proxy                    4.2.0\n",
      "jupyter_server_terminals                0.5.3\n",
      "jupyter-ydoc                            1.1.1\n",
      "jupyterlab                              4.1.6\n",
      "jupyterlab_git                          0.50.0\n",
      "jupyterlab-lsp                          5.0.3\n",
      "jupyterlab_pygments                     0.3.0\n",
      "jupyterlab_server                       2.24.0\n",
      "jupyterlab_widgets                      3.0.11\n",
      "keras                                   2.15.0\n",
      "kiwisolver                              1.4.5\n",
      "krb5                                    0.5.1\n",
      "langchain                               0.1.9\n",
      "langchain-aws                           0.1.6\n",
      "langchain-community                     0.0.38\n",
      "langchain-core                          0.1.52\n",
      "langcodes                               3.4.0\n",
      "langsmith                               0.1.82\n",
      "language_data                           1.2.0\n",
      "libmambapy                              1.5.8\n",
      "lightgbm                                3.3.5\n",
      "lightning-utilities                     0.11.2\n",
      "llvmlite                                0.43.0\n",
      "locket                                  1.0.0\n",
      "lxml                                    4.9.4\n",
      "marisa-trie                             1.1.0\n",
      "Markdown                                3.6\n",
      "markdown-it-py                          3.0.0\n",
      "MarkupSafe                              2.1.5\n",
      "marshmallow                             3.21.3\n",
      "matplotlib                              3.8.4\n",
      "matplotlib-inline                       0.1.7\n",
      "mccabe                                  0.7.0\n",
      "mdurl                                   0.1.2\n",
      "menuinst                                2.1.1\n",
      "mistune                                 3.0.2\n",
      "ml-dtypes                               0.2.0\n",
      "mlforecast                              0.7.3\n",
      "mock                                    5.1.0\n",
      "model-index                             0.1.11\n",
      "mpmath                                  1.3.0\n",
      "msgpack                                 1.0.8\n",
      "multidict                               6.0.5\n",
      "multiprocess                            0.70.16\n",
      "munkres                                 1.1.4\n",
      "murmurhash                              1.0.10\n",
      "mypy-extensions                         1.0.0\n",
      "nbclient                                0.10.0\n",
      "nbconvert                               7.16.4\n",
      "nbdime                                  4.0.1\n",
      "nbformat                                5.10.4\n",
      "nest_asyncio                            1.6.0\n",
      "networkx                                3.3\n",
      "nlpaug                                  1.1.11\n",
      "nltk                                    3.8.1\n",
      "nose                                    1.3.7\n",
      "notebook                                7.1.3\n",
      "notebook_shim                           0.2.4\n",
      "nptyping                                2.4.1\n",
      "numba                                   0.60.0\n",
      "numpy                                   1.26.4\n",
      "oauthlib                                3.2.2\n",
      "omegaconf                               2.2.3\n",
      "openmim                                 0.3.7\n",
      "opt-einsum                              3.3.0\n",
      "ordered-set                             4.1.0\n",
      "orjson                                  3.10.4\n",
      "overrides                               7.7.0\n",
      "packaging                               23.2\n",
      "pandas                                  2.1.4\n",
      "pandocfilters                           1.5.0\n",
      "papermill                               2.6.0\n",
      "paramiko                                3.4.0\n",
      "parso                                   0.8.4\n",
      "partd                                   1.4.2\n",
      "pathos                                  0.3.2\n",
      "patsy                                   0.5.6\n",
      "pexpect                                 4.9.0\n",
      "pickleshare                             0.7.5\n",
      "pillow                                  10.3.0\n",
      "pip                                     23.3.2\n",
      "pkgutil_resolve_name                    1.3.10\n",
      "platformdirs                            4.2.2\n",
      "plotly                                  5.22.0\n",
      "pluggy                                  1.5.0\n",
      "ply                                     3.11\n",
      "pox                                     0.3.4\n",
      "ppft                                    1.7.6.8\n",
      "preshed                                 3.0.9\n",
      "prometheus_client                       0.20.0\n",
      "promise                                 2.3\n",
      "prompt_toolkit                          3.0.47\n",
      "protobuf                                3.20.3\n",
      "protobuf3-to-dict                       0.1.5\n",
      "psutil                                  5.9.8\n",
      "ptyprocess                              0.7.0\n",
      "pure-eval                               0.2.2\n",
      "pure-sasl                               0.6.2\n",
      "pyarrow                                 15.0.0\n",
      "pyarrow-hotfix                          0.6\n",
      "pyasn1                                  0.6.0\n",
      "pyasn1_modules                          0.4.0\n",
      "PyAthena                                3.8.3\n",
      "pycodestyle                             2.11.1\n",
      "pycosat                                 0.6.6\n",
      "pycparser                               2.22\n",
      "pydantic                                1.10.16\n",
      "pydantic_core                           2.18.4\n",
      "pydocstyle                              6.3.0\n",
      "pyflakes                                3.2.0\n",
      "Pygments                                2.18.0\n",
      "PyHive                                  0.7.0\n",
      "PyJWT                                   2.8.0\n",
      "pylint                                  3.2.3\n",
      "PyNaCl                                  1.5.0\n",
      "pyOpenSSL                               24.0.0\n",
      "pyparsing                               3.1.2\n",
      "PyQt5                                   5.15.9\n",
      "PyQt5-sip                               12.12.2\n",
      "pyrsistent                              0.20.0\n",
      "PySocks                                 1.7.1\n",
      "pyspnego                                0.11.0\n",
      "pytesseract                             0.3.10\n",
      "python-dateutil                         2.9.0\n",
      "python-json-logger                      2.0.7\n",
      "python-lsp-jsonrpc                      1.1.2\n",
      "python-lsp-server                       1.11.0\n",
      "python-slugify                          8.0.4\n",
      "pytoolconfig                            1.2.5\n",
      "pytorch-lightning                       2.0.9\n",
      "pytorch-metric-learning                 1.7.3\n",
      "pytz                                    2023.3\n",
      "pyu2f                                   0.1.5\n",
      "PyWavelets                              1.4.1\n",
      "PyYAML                                  6.0.1\n",
      "pyzmq                                   26.0.3\n",
      "qtconsole                               5.5.2\n",
      "QtPy                                    2.4.1\n",
      "redshift_connector                      2.1.2\n",
      "regex                                   2024.5.15\n",
      "requests                                2.32.3\n",
      "requests-kerberos                       0.14.0\n",
      "requests-oauthlib                       2.0.0\n",
      "responses                               0.18.0\n",
      "retrying                                1.3.3\n",
      "rfc3339-validator                       0.1.4\n",
      "rfc3986-validator                       0.1.1\n",
      "rich                                    13.7.1\n",
      "rope                                    1.13.0\n",
      "rsa                                     4.9\n",
      "ruamel.yaml                             0.18.6\n",
      "ruamel.yaml.clib                        0.2.8\n",
      "s3transfer                              0.10.2\n",
      "safetensors                             0.4.3\n",
      "sagemaker                               2.225.0\n",
      "sagemaker-experiments                   0.1.24\n",
      "sagemaker-headless-execution-driver     0.0.12\n",
      "sagemaker-jupyterlab-emr-extension      0.1.9\n",
      "sagemaker-jupyterlab-extension          0.3.2\n",
      "sagemaker-jupyterlab-extension-common   0.1.18\n",
      "sagemaker-kernel-wrapper                0.0.2\n",
      "sagemaker-scikit-learn-extension        2.5.0\n",
      "sagemaker-studio-analytics-extension    0.0.21\n",
      "sagemaker-studio-sparkmagic-lib         0.1.4\n",
      "sasl                                    0.3.1\n",
      "schema                                  0.7.7\n",
      "scikit-image                            0.19.3\n",
      "scikit-learn                            1.4.2\n",
      "SciPy                                   1.11.4\n",
      "scramp                                  1.4.4\n",
      "Send2Trash                              1.8.3\n",
      "sentencepiece                           0.1.99\n",
      "seqeval                                 1.2.2\n",
      "setuptools                              70.1.1\n",
      "shellingham                             1.5.4\n",
      "simpervisor                             1.0.0\n",
      "sip                                     6.7.12\n",
      "six                                     1.16.0\n",
      "smart-open                              6.4.0\n",
      "smdebug-rulesconfig                     1.0.1\n",
      "smmap                                   5.0.0\n",
      "sniffio                                 1.3.1\n",
      "snowballstemmer                         2.2.0\n",
      "snowflake-connector-python              3.11.0\n",
      "sortedcontainers                        2.4.0\n",
      "soupsieve                               2.5\n",
      "spacy                                   3.7.4\n",
      "spacy-legacy                            3.0.12\n",
      "spacy-loggers                           1.0.5\n",
      "sparkmagic                              0.21.0\n",
      "SQLAlchemy                              2.0.30\n",
      "sqlparse                                0.5.0\n",
      "srsly                                   2.4.8\n",
      "stack-data                              0.6.2\n",
      "starlette                               0.37.2\n",
      "statsforecast                           1.4.0\n",
      "statsmodels                             0.14.2\n",
      "supervisor                              4.2.5\n",
      "sympy                                   1.12.1\n",
      "tabulate                                0.9.0\n",
      "tblib                                   2.0.0\n",
      "tenacity                                8.4.2\n",
      "tensorboard                             2.15.2\n",
      "tensorboard-data-server                 0.7.0\n",
      "tensorflow                              2.15.0\n",
      "tensorflow-datasets                     4.0.0\n",
      "tensorflow_estimator                    2.15.0\n",
      "tensorflow-metadata                     1.15.0\n",
      "tensorflow-recommenders                 0.2.0\n",
      "termcolor                               2.4.0\n",
      "terminado                               0.18.1\n",
      "text-unidecode                          1.3\n",
      "thinc                                   8.2.3\n",
      "threadpoolctl                           3.5.0\n",
      "thrift                                  0.20.0\n",
      "thrift-sasl                             0.4.3\n",
      "tifffile                                2024.6.18\n",
      "timm                                    0.9.16\n",
      "tinycss2                                1.3.0\n",
      "tokenizers                              0.19.1\n",
      "toml                                    0.10.2\n",
      "tomli                                   2.0.1\n",
      "tomlkit                                 0.12.5\n",
      "toolz                                   0.12.1\n",
      "torch                                   2.0.0.post104\n",
      "torchmetrics                            1.0.3\n",
      "torchvision                             0.15.2a0+ab7b3e6\n",
      "tornado                                 6.4.1\n",
      "tqdm                                    4.66.4\n",
      "traitlets                               5.14.3\n",
      "transformers                            4.40.2\n",
      "truststore                              0.8.0\n",
      "typer                                   0.9.4\n",
      "types-python-dateutil                   2.9.0.20240316\n",
      "typing_extensions                       4.12.2\n",
      "typing-inspect                          0.9.0\n",
      "typing-utils                            0.1.0\n",
      "typish                                  1.9.3\n",
      "tzdata                                  2024.1\n",
      "ujson                                   5.10.0\n",
      "unicodedata2                            15.1.0\n",
      "uri-template                            1.3.0\n",
      "urllib3                                 1.26.19\n",
      "uvicorn                                 0.30.1\n",
      "wasabi                                  1.1.2\n",
      "wcwidth                                 0.2.13\n",
      "weasel                                  0.3.4\n",
      "webcolors                               24.6.0\n",
      "webencodings                            0.5.1\n",
      "websocket-client                        1.8.0\n",
      "Werkzeug                                3.0.3\n",
      "whatthepatch                            1.0.5\n",
      "wheel                                   0.43.0\n",
      "widgetsnbextension                      4.0.11\n",
      "window_ops                              0.0.15\n",
      "wrapt                                   1.14.1\n",
      "xgboost                                 1.7.6\n",
      "xxhash                                  3.4.1\n",
      "y-py                                    0.6.2\n",
      "yapf                                    0.40.1\n",
      "yarl                                    1.9.4\n",
      "ypy-websocket                           0.12.4\n",
      "zict                                    3.0.0\n",
      "zipp                                    3.19.2\n",
      "zstandard                               0.22.0\n"
     ]
    }
   ],
   "source": [
    "!pip list"
   ]
  },
  {
   "cell_type": "markdown",
   "metadata": {},
   "source": [
    "# Pip"
   ]
  },
  {
   "cell_type": "code",
   "execution_count": 3,
   "metadata": {},
   "outputs": [
    {
     "name": "stdout",
     "output_type": "stream",
     "text": [
      "\u001b[31mERROR: pip's dependency resolver does not currently take into account all the packages that are installed. This behaviour is the source of the following dependency conflicts.\n",
      "aiobotocore 2.13.1 requires botocore<1.34.132,>=1.34.70, but you have botocore 1.34.142 which is incompatible.\n",
      "tensorflow 2.15.0 requires wrapt<1.15,>=1.11.0, but you have wrapt 1.16.0 which is incompatible.\u001b[0m\u001b[31m\n",
      "\u001b[0m"
     ]
    }
   ],
   "source": [
    "!pip install --disable-pip-version-check -q pip --upgrade > /dev/null\n",
    "!pip install --disable-pip-version-check -q wrapt --upgrade > /dev/null"
   ]
  },
  {
   "cell_type": "markdown",
   "metadata": {},
   "source": [
    "### _Ignore any warning or error message ^^ above ^^.  This is OK!_"
   ]
  },
  {
   "cell_type": "markdown",
   "metadata": {},
   "source": [
    "# AWS CLI and AWS Python SDK (boto3)"
   ]
  },
  {
   "cell_type": "code",
   "execution_count": 4,
   "metadata": {},
   "outputs": [
    {
     "name": "stdout",
     "output_type": "stream",
     "text": [
      "\u001b[31mERROR: pip's dependency resolver does not currently take into account all the packages that are installed. This behaviour is the source of the following dependency conflicts.\n",
      "jupyter-ai 2.18.1 requires faiss-cpu, which is not installed.\n",
      "aiobotocore 2.13.1 requires botocore<1.34.132,>=1.34.70, but you have botocore 1.19.56 which is incompatible.\n",
      "amazon-sagemaker-sql-editor 0.1.9 requires boto3<2,>=1.29.6, but you have boto3 1.16.56 which is incompatible.\n",
      "amazon-sagemaker-sql-editor 0.1.9 requires botocore<2,>=1.31.64, but you have botocore 1.19.56 which is incompatible.\n",
      "amazon-sagemaker-sql-execution 0.1.5 requires boto3>=1.28.64, but you have boto3 1.16.56 which is incompatible.\n",
      "autogluon-common 0.8.3 requires pandas<1.6,>=1.4.1, but you have pandas 2.1.4 which is incompatible.\n",
      "autogluon-core 0.8.3 requires pandas<1.6,>=1.4.1, but you have pandas 2.1.4 which is incompatible.\n",
      "autogluon-core 0.8.3 requires scikit-learn<1.4.1,>=1.1, but you have scikit-learn 1.4.2 which is incompatible.\n",
      "autogluon-features 0.8.3 requires pandas<1.6,>=1.4.1, but you have pandas 2.1.4 which is incompatible.\n",
      "autogluon-features 0.8.3 requires scikit-learn<1.4.1,>=1.1, but you have scikit-learn 1.4.2 which is incompatible.\n",
      "autogluon-multimodal 0.8.3 requires pandas<1.6,>=1.4.1, but you have pandas 2.1.4 which is incompatible.\n",
      "autogluon-multimodal 0.8.3 requires pytorch-lightning<1.10.0,>=1.9.0, but you have pytorch-lightning 2.0.9 which is incompatible.\n",
      "autogluon-multimodal 0.8.3 requires scikit-learn<1.4.1,>=1.1, but you have scikit-learn 1.4.2 which is incompatible.\n",
      "autogluon-multimodal 0.8.3 requires torch<1.14,>=1.9, but you have torch 2.0.0.post104 which is incompatible.\n",
      "autogluon-multimodal 0.8.3 requires torchmetrics<0.12.0,>=0.11.0, but you have torchmetrics 1.0.3 which is incompatible.\n",
      "autogluon-multimodal 0.8.3 requires torchvision<0.15.0, but you have torchvision 0.15.2a0+ab7b3e6 which is incompatible.\n",
      "autogluon-tabular 0.8.3 requires pandas<1.6,>=1.4.1, but you have pandas 2.1.4 which is incompatible.\n",
      "autogluon-tabular 0.8.3 requires scikit-learn<1.4.1,>=1.1, but you have scikit-learn 1.4.2 which is incompatible.\n",
      "autogluon-timeseries 0.8.3 requires pandas<1.6,>=1.4.1, but you have pandas 2.1.4 which is incompatible.\n",
      "autogluon-timeseries 0.8.3 requires pytorch-lightning<1.10.0,>=1.7.4, but you have pytorch-lightning 2.0.9 which is incompatible.\n",
      "autogluon-timeseries 0.8.3 requires torch<1.14,>=1.9, but you have torch 2.0.0.post104 which is incompatible.\n",
      "aws-glue-sessions 1.0.6 requires boto3>=1.21.31, but you have boto3 1.16.56 which is incompatible.\n",
      "aws-glue-sessions 1.0.6 requires botocore>=1.24.24, but you have botocore 1.19.56 which is incompatible.\n",
      "langchain-aws 0.1.6 requires boto3<1.35.0,>=1.34.51, but you have boto3 1.16.56 which is incompatible.\n",
      "pyathena 3.8.3 requires boto3>=1.26.4, but you have boto3 1.16.56 which is incompatible.\n",
      "pyathena 3.8.3 requires botocore>=1.29.4, but you have botocore 1.19.56 which is incompatible.\n",
      "pytorch-lightning 2.0.9 requires PyYAML>=5.4, but you have pyyaml 5.3.1 which is incompatible.\n",
      "sagemaker 2.225.0 requires boto3<2.0,>=1.34.142, but you have boto3 1.16.56 which is incompatible.\n",
      "sagemaker 2.225.0 requires PyYAML~=6.0, but you have pyyaml 5.3.1 which is incompatible.\n",
      "sagemaker-studio-analytics-extension 0.0.21 requires boto3<2.0,>=1.26.49, but you have boto3 1.16.56 which is incompatible.\n",
      "sparkmagic 0.21.0 requires pandas<2.0.0,>=0.17.1, but you have pandas 2.1.4 which is incompatible.\n",
      "tensorflow 2.15.0 requires wrapt<1.15,>=1.11.0, but you have wrapt 1.16.0 which is incompatible.\u001b[0m\u001b[31m\n",
      "\u001b[0m"
     ]
    }
   ],
   "source": [
    "!pip install --disable-pip-version-check -q awscli==1.18.216 boto3==1.16.56 botocore==1.19.56"
   ]
  },
  {
   "cell_type": "markdown",
   "metadata": {},
   "source": [
    "### _Ignore any warning or error message ^^ above ^^.  This is OK!_"
   ]
  },
  {
   "cell_type": "markdown",
   "metadata": {},
   "source": [
    "# SageMaker"
   ]
  },
  {
   "cell_type": "code",
   "execution_count": 5,
   "metadata": {},
   "outputs": [],
   "source": [
    "!pip install --disable-pip-version-check -q sagemaker==2.29.0\n",
    "!pip install --disable-pip-version-check -q smdebug==1.0.1\n",
    "!pip install --disable-pip-version-check -q sagemaker-experiments==0.1.26"
   ]
  },
  {
   "cell_type": "markdown",
   "metadata": {},
   "source": [
    "### _Ignore any warning or error message ^^ above ^^.  This is OK!_"
   ]
  },
  {
   "cell_type": "markdown",
   "metadata": {},
   "source": [
    "# PyTorch"
   ]
  },
  {
   "cell_type": "code",
   "execution_count": 6,
   "metadata": {},
   "outputs": [
    {
     "name": "stdout",
     "output_type": "stream",
     "text": [
      "Channels:\n",
      " - pytorch\n",
      " - defaults\n",
      " - conda-forge\n",
      "Platform: linux-64\n",
      "Collecting package metadata (repodata.json): - "
     ]
    }
   ],
   "source": [
    "!conda install -y pytorch==1.6.0 -c pytorch"
   ]
  },
  {
   "cell_type": "markdown",
   "metadata": {},
   "source": [
    "# TensorFlow"
   ]
  },
  {
   "cell_type": "code",
   "execution_count": 7,
   "metadata": {},
   "outputs": [
    {
     "name": "stdout",
     "output_type": "stream",
     "text": [
      "\u001b[31mERROR: Could not find a version that satisfies the requirement tensorflow==2.3.1 (from versions: 2.8.0rc0, 2.8.0rc1, 2.8.0, 2.8.1, 2.8.2, 2.8.3, 2.8.4, 2.9.0rc0, 2.9.0rc1, 2.9.0rc2, 2.9.0, 2.9.1, 2.9.2, 2.9.3, 2.10.0rc0, 2.10.0rc1, 2.10.0rc2, 2.10.0rc3, 2.10.0, 2.10.1, 2.11.0rc0, 2.11.0rc1, 2.11.0rc2, 2.11.0, 2.11.1, 2.12.0rc0, 2.12.0rc1, 2.12.0, 2.12.1, 2.13.0rc0, 2.13.0rc1, 2.13.0rc2, 2.13.0, 2.13.1, 2.14.0rc0, 2.14.0rc1, 2.14.0, 2.14.1, 2.15.0rc0, 2.15.0rc1, 2.15.0, 2.15.0.post1, 2.15.1, 2.16.0rc0, 2.16.1, 2.16.2, 2.17.0rc0, 2.17.0rc1)\u001b[0m\u001b[31m\n",
      "\u001b[0m\u001b[31mERROR: No matching distribution found for tensorflow==2.3.1\u001b[0m\u001b[31m\n",
      "\u001b[0m"
     ]
    }
   ],
   "source": [
    "!pip install --disable-pip-version-check -q tensorflow==2.3.1"
   ]
  },
  {
   "cell_type": "markdown",
   "metadata": {},
   "source": [
    "### _Ignore any warning or error message ^^ above ^^.  This is OK!_"
   ]
  },
  {
   "cell_type": "markdown",
   "metadata": {},
   "source": [
    "# Hugging Face Transformers (BERT)"
   ]
  },
  {
   "cell_type": "code",
   "execution_count": 8,
   "metadata": {},
   "outputs": [
    {
     "name": "stdout",
     "output_type": "stream",
     "text": [
      "  \u001b[1;31merror\u001b[0m: \u001b[1msubprocess-exited-with-error\u001b[0m\n",
      "  \n",
      "  \u001b[31m×\u001b[0m \u001b[32mpython setup.py egg_info\u001b[0m did not run successfully.\n",
      "  \u001b[31m│\u001b[0m exit code: \u001b[1;36m1\u001b[0m\n",
      "  \u001b[31m╰─>\u001b[0m \u001b[31m[2 lines of output]\u001b[0m\n",
      "  \u001b[31m   \u001b[0m /bin/sh: 1: pkg-config: not found\n",
      "  \u001b[31m   \u001b[0m Failed to find sentencepiece pkgconfig\n",
      "  \u001b[31m   \u001b[0m \u001b[31m[end of output]\u001b[0m\n",
      "  \n",
      "  \u001b[1;35mnote\u001b[0m: This error originates from a subprocess, and is likely not a problem with pip.\n",
      "\u001b[1;31merror\u001b[0m: \u001b[1mmetadata-generation-failed\u001b[0m\n",
      "\n",
      "\u001b[31m×\u001b[0m Encountered error while generating package metadata.\n",
      "\u001b[31m╰─>\u001b[0m See above for output.\n",
      "\n",
      "\u001b[1;35mnote\u001b[0m: This is an issue with the package mentioned above, not pip.\n",
      "\u001b[1;36mhint\u001b[0m: See above for details.\n"
     ]
    }
   ],
   "source": [
    "!pip install --disable-pip-version-check -q transformers==3.5.1"
   ]
  },
  {
   "cell_type": "markdown",
   "metadata": {},
   "source": [
    "### _Ignore any warning or error message ^^ above ^^.  This is OK!_"
   ]
  },
  {
   "cell_type": "markdown",
   "metadata": {},
   "source": [
    "# TorchServe"
   ]
  },
  {
   "cell_type": "code",
   "execution_count": 9,
   "metadata": {},
   "outputs": [],
   "source": [
    "!pip install --disable-pip-version-check -q torchserve==0.3.0\n",
    "!pip install --disable-pip-version-check -q torch-model-archiver==0.3.0"
   ]
  },
  {
   "cell_type": "markdown",
   "metadata": {},
   "source": [
    "### _Ignore any warning or error message ^^ above ^^.  This is OK!_"
   ]
  },
  {
   "cell_type": "markdown",
   "metadata": {},
   "source": [
    "# PyAthena"
   ]
  },
  {
   "cell_type": "code",
   "execution_count": 10,
   "metadata": {},
   "outputs": [
    {
     "name": "stdout",
     "output_type": "stream",
     "text": [
      "\u001b[31mERROR: pip's dependency resolver does not currently take into account all the packages that are installed. This behaviour is the source of the following dependency conflicts.\n",
      "amazon-sagemaker-sql-execution 0.1.5 requires boto3>=1.28.64, but you have boto3 1.16.56 which is incompatible.\n",
      "amazon-sagemaker-sql-execution 0.1.5 requires pyathena<4,>=3.3.0, but you have pyathena 2.1.0 which is incompatible.\u001b[0m\u001b[31m\n",
      "\u001b[0m"
     ]
    }
   ],
   "source": [
    "!pip install --disable-pip-version-check -q PyAthena==2.1.0"
   ]
  },
  {
   "cell_type": "markdown",
   "metadata": {},
   "source": [
    "### _Ignore any warning or error message ^^ above ^^.  This is OK!_"
   ]
  },
  {
   "cell_type": "markdown",
   "metadata": {},
   "source": [
    "# Redshift"
   ]
  },
  {
   "cell_type": "code",
   "execution_count": 11,
   "metadata": {},
   "outputs": [
    {
     "name": "stdout",
     "output_type": "stream",
     "text": [
      "\u001b[31mERROR: pip's dependency resolver does not currently take into account all the packages that are installed. This behaviour is the source of the following dependency conflicts.\n",
      "jupyter-scheduler 2.7.1 requires sqlalchemy<3,>=2.0, but you have sqlalchemy 1.3.22 which is incompatible.\n",
      "langchain 0.1.9 requires SQLAlchemy<3,>=1.4, but you have sqlalchemy 1.3.22 which is incompatible.\n",
      "langchain-community 0.0.38 requires SQLAlchemy<3,>=1.4, but you have sqlalchemy 1.3.22 which is incompatible.\u001b[0m\u001b[31m\n",
      "\u001b[0m"
     ]
    }
   ],
   "source": [
    "!pip install --disable-pip-version-check -q SQLAlchemy==1.3.22\n",
    "!pip install --disable-pip-version-check -q psycopg2-binary==2.9.1"
   ]
  },
  {
   "cell_type": "markdown",
   "metadata": {},
   "source": [
    "### _Ignore any warning or error message ^^ above ^^.  This is OK!_"
   ]
  },
  {
   "cell_type": "markdown",
   "metadata": {},
   "source": [
    "# AWS Data Wrangler"
   ]
  },
  {
   "cell_type": "code",
   "execution_count": 12,
   "metadata": {},
   "outputs": [
    {
     "name": "stdout",
     "output_type": "stream",
     "text": [
      "\u001b[31mERROR: Ignored the following yanked versions: 3.2.0\u001b[0m\u001b[31m\n",
      "\u001b[0m\u001b[31mERROR: Ignored the following versions that require a different python version: 1.0.0 Requires-Python >=3.6, <3.9; 1.0.1 Requires-Python >=3.6, <3.9; 1.0.2 Requires-Python >=3.6, <3.9; 1.0.3 Requires-Python >=3.6, <3.9; 1.0.4 Requires-Python >=3.6, <3.9; 1.1.0 Requires-Python >=3.6, <3.9; 1.1.1 Requires-Python >=3.6, <3.9; 1.1.2 Requires-Python >=3.6, <3.9; 1.10.0 Requires-Python >=3.6, <3.9; 1.10.1 Requires-Python >=3.6, <3.9; 1.2.0 Requires-Python >=3.6, <3.9; 1.3.0 Requires-Python >=3.6, <3.9; 1.4.0 Requires-Python >=3.6, <3.9; 1.5.0 Requires-Python >=3.6, <3.9; 1.6.0 Requires-Python >=3.6, <3.9; 1.6.1 Requires-Python >=3.6, <3.9; 1.6.2 Requires-Python >=3.6, <3.9; 1.6.3 Requires-Python >=3.6, <3.9; 1.7.0 Requires-Python >=3.6, <3.9; 1.8.0 Requires-Python >=3.6, <3.9; 1.8.1 Requires-Python >=3.6, <3.9; 1.9.0 Requires-Python >=3.6, <3.9; 1.9.1 Requires-Python >=3.6, <3.9; 1.9.2 Requires-Python >=3.6, <3.9; 1.9.3 Requires-Python >=3.6, <3.9; 1.9.4 Requires-Python >=3.6, <3.9; 1.9.5 Requires-Python >=3.6, <3.9; 1.9.6 Requires-Python >=3.6, <3.9; 2.0.0 Requires-Python >=3.6, <3.9; 2.0.1 Requires-Python >=3.6, <3.9; 2.1.0 Requires-Python >=3.6, <3.9; 2.10.0 Requires-Python >=3.6, <3.10; 2.11.0 Requires-Python >=3.6.2,<3.10; 2.12.0 Requires-Python >=3.6.2,<3.10; 2.12.1 Requires-Python >=3.6.2,<3.10; 2.13.0 Requires-Python >=3.6.2,<=3.10.0; 2.2.0 Requires-Python >=3.6, <3.9; 2.3.0 Requires-Python >=3.6, <3.9; 2.4.0 Requires-Python >=3.6, <3.10; 2.5.0 Requires-Python >=3.6, <3.10; 2.6.0 Requires-Python >=3.6, <3.10; 2.7.0 Requires-Python >=3.6, <3.10; 2.8.0 Requires-Python >=3.6, <3.10; 2.9.0 Requires-Python >=3.6, <3.10\u001b[0m\u001b[31m\n",
      "\u001b[0m\u001b[31mERROR: Could not find a version that satisfies the requirement awswrangler==2.13.0 (from versions: 0.0b0, 0.0b2, 0.0b3, 0.0b4, 0.0b5, 0.0b6, 0.0b7, 0.0b8, 0.0b9, 0.0b10, 0.0b11, 0.0b12, 0.0b13, 0.0b14, 0.0b15, 0.0b16, 0.0b17, 0.0b18, 0.0b19, 0.0b20, 0.0b21, 0.0b22, 0.0b23, 0.0b24, 0.0b25, 0.0b26, 0.0b27, 0.0b28, 0.0b29, 0.0b30, 0.0b31, 0.0b32, 0.0.1, 0.0.2, 0.0.3, 0.0.4, 0.0.5, 0.0.6, 0.0.7, 0.0.8, 0.0.9, 0.0.10, 0.0.11, 0.0.12, 0.0.13, 0.0.14, 0.0.15, 0.0.16, 0.0.17, 0.0.18, 0.0.19, 0.0.20, 0.0.21, 0.0.22, 0.0.23, 0.0.24, 0.0.25, 0.1.0, 0.1.1, 0.1.2, 0.1.3, 0.1.4, 0.2.0, 0.2.1, 0.2.2, 0.2.3, 0.2.4, 0.2.5, 0.2.6, 0.3.0, 0.3.1, 0.3.2, 2.14.0, 2.15.0, 2.15.1, 2.16.0, 2.16.1, 2.17.0, 2.18.0, 2.19.0, 2.20.0, 2.20.1, 3.0.0a1, 3.0.0a2, 3.0.0b1, 3.0.0b2, 3.0.0b3, 3.0.0rc1, 3.0.0rc2, 3.0.0rc3, 3.0.0, 3.1.0, 3.1.1, 3.2.1, 3.3.0, 3.4.0, 3.4.1, 3.4.2, 3.5.0, 3.5.1, 3.5.2, 3.6.0, 3.7.0, 3.7.1, 3.7.2, 3.7.3, 3.8.0, 3.9.0)\u001b[0m\u001b[31m\n",
      "\u001b[0m\u001b[31mERROR: No matching distribution found for awswrangler==2.13.0\u001b[0m\u001b[31m\n",
      "\u001b[0m"
     ]
    }
   ],
   "source": [
    "!pip install --disable-pip-version-check -q awswrangler==2.13.0"
   ]
  },
  {
   "cell_type": "markdown",
   "metadata": {},
   "source": [
    "### _Ignore any warning or error message ^^ above ^^.  This is OK!_"
   ]
  },
  {
   "cell_type": "markdown",
   "metadata": {},
   "source": [
    "# StepFunctions"
   ]
  },
  {
   "cell_type": "code",
   "execution_count": 13,
   "metadata": {},
   "outputs": [],
   "source": [
    "!pip install --disable-pip-version-check -q stepfunctions==2.0.0rc1"
   ]
  },
  {
   "cell_type": "markdown",
   "metadata": {},
   "source": [
    "### _Ignore any warning or error message ^^ above ^^.  This is OK!_"
   ]
  },
  {
   "cell_type": "markdown",
   "metadata": {},
   "source": [
    "# Zip"
   ]
  },
  {
   "cell_type": "code",
   "execution_count": 14,
   "metadata": {},
   "outputs": [
    {
     "name": "stdout",
     "output_type": "stream",
     "text": [
      "Channels:\n",
      " - defaults\n",
      " - conda-forge\n",
      "Platform: linux-64\n",
      "Collecting package metadata (repodata.json): / "
     ]
    }
   ],
   "source": [
    "!conda install -y zip"
   ]
  },
  {
   "cell_type": "markdown",
   "metadata": {},
   "source": [
    "# Matplotlib"
   ]
  },
  {
   "cell_type": "code",
   "execution_count": 15,
   "metadata": {},
   "outputs": [
    {
     "name": "stdout",
     "output_type": "stream",
     "text": [
      "\u001b[31mERROR: pip's dependency resolver does not currently take into account all the packages that are installed. This behaviour is the source of the following dependency conflicts.\n",
      "autogluon-core 0.8.3 requires pandas<1.6,>=1.4.1, but you have pandas 2.1.4 which is incompatible.\n",
      "autogluon-core 0.8.3 requires scikit-learn<1.4.1,>=1.1, but you have scikit-learn 1.4.2 which is incompatible.\n",
      "autogluon-multimodal 0.8.3 requires pandas<1.6,>=1.4.1, but you have pandas 2.1.4 which is incompatible.\n",
      "autogluon-multimodal 0.8.3 requires pytorch-lightning<1.10.0,>=1.9.0, but you have pytorch-lightning 2.0.9 which is incompatible.\n",
      "autogluon-multimodal 0.8.3 requires scikit-learn<1.4.1,>=1.1, but you have scikit-learn 1.4.2 which is incompatible.\n",
      "autogluon-multimodal 0.8.3 requires torch<1.14,>=1.9, but you have torch 2.0.0.post104 which is incompatible.\n",
      "autogluon-multimodal 0.8.3 requires torchmetrics<0.12.0,>=0.11.0, but you have torchmetrics 1.0.3 which is incompatible.\n",
      "autogluon-multimodal 0.8.3 requires torchvision<0.15.0, but you have torchvision 0.15.2a0+ab7b3e6 which is incompatible.\n",
      "autogluon-tabular 0.8.3 requires pandas<1.6,>=1.4.1, but you have pandas 2.1.4 which is incompatible.\n",
      "autogluon-tabular 0.8.3 requires scikit-learn<1.4.1,>=1.1, but you have scikit-learn 1.4.2 which is incompatible.\n",
      "autogluon-timeseries 0.8.3 requires pandas<1.6,>=1.4.1, but you have pandas 2.1.4 which is incompatible.\n",
      "autogluon-timeseries 0.8.3 requires pytorch-lightning<1.10.0,>=1.7.4, but you have pytorch-lightning 2.0.9 which is incompatible.\n",
      "autogluon-timeseries 0.8.3 requires torch<1.14,>=1.9, but you have torch 2.0.0.post104 which is incompatible.\u001b[0m\u001b[31m\n",
      "\u001b[0m"
     ]
    }
   ],
   "source": [
    "!pip install --disable-pip-version-check -q matplotlib==3.1.3"
   ]
  },
  {
   "cell_type": "markdown",
   "metadata": {},
   "source": [
    "### _Ignore any warning or error message ^^ above ^^.  This is OK!_"
   ]
  },
  {
   "cell_type": "markdown",
   "metadata": {},
   "source": [
    "# Seaborn"
   ]
  },
  {
   "cell_type": "code",
   "execution_count": 16,
   "metadata": {},
   "outputs": [],
   "source": [
    "!pip install --disable-pip-version-check -q seaborn==0.10.0"
   ]
  },
  {
   "cell_type": "markdown",
   "metadata": {},
   "source": [
    "### _Ignore any warning or error message ^^ above ^^.  This is OK!_"
   ]
  },
  {
   "cell_type": "markdown",
   "metadata": {},
   "source": [
    "# AWS CLI and Credentials (Optional)\n",
    "If you are running outside of an AWS account, you should uncomment and run the cells below."
   ]
  },
  {
   "cell_type": "code",
   "execution_count": 17,
   "metadata": {},
   "outputs": [],
   "source": [
    "# !pip install awscli"
   ]
  },
  {
   "cell_type": "code",
   "execution_count": 18,
   "metadata": {},
   "outputs": [],
   "source": [
    "# !mkdir ~/.aws"
   ]
  },
  {
   "cell_type": "code",
   "execution_count": 19,
   "metadata": {},
   "outputs": [],
   "source": [
    "# %%writefile ~/.aws/credentials\n",
    "\n",
    "# [default]\n",
    "# aws_access_key_id = <ACCESS_KEY_ID>\n",
    "# aws_secret_access_key = <SECRET_ACCESS_KEY> "
   ]
  },
  {
   "cell_type": "code",
   "execution_count": 20,
   "metadata": {},
   "outputs": [],
   "source": [
    "# %%writefile ~/.aws/config\n",
    "\n",
    "# [default]\n",
    "# region=<REGION_NAME> # us-east-1"
   ]
  },
  {
   "cell_type": "markdown",
   "metadata": {},
   "source": [
    "# Summarize"
   ]
  },
  {
   "cell_type": "code",
   "execution_count": 21,
   "metadata": {},
   "outputs": [
    {
     "name": "stdout",
     "output_type": "stream",
     "text": [
      "Python 3.10.14\n"
     ]
    }
   ],
   "source": [
    "!python --version"
   ]
  },
  {
   "cell_type": "code",
   "execution_count": 22,
   "metadata": {
    "scrolled": true
   },
   "outputs": [
    {
     "name": "stdout",
     "output_type": "stream",
     "text": [
      "Package                                 Version\n",
      "--------------------------------------- ----------------\n",
      "absl-py                                 2.1.0\n",
      "accelerate                              0.21.0\n",
      "aiobotocore                             2.13.1\n",
      "aiohttp                                 3.9.5\n",
      "aioitertools                            0.11.0\n",
      "aiosignal                               1.3.1\n",
      "aiosqlite                               0.19.0\n",
      "altair                                  5.3.0\n",
      "amazon-q-developer-jupyterlab-ext       3.1.0\n",
      "amazon_sagemaker_jupyter_ai_q_developer 1.0.4\n",
      "amazon_sagemaker_jupyter_scheduler      3.1.0\n",
      "amazon-sagemaker-sql-editor             0.1.9\n",
      "amazon-sagemaker-sql-execution          0.1.5\n",
      "amazon-sagemaker-sql-magic              0.1.3\n",
      "annotated-types                         0.7.0\n",
      "ansi2html                               0.0.0\n",
      "ansicolors                              1.1.8\n",
      "antlr4-python3-runtime                  4.9.3\n",
      "anyio                                   4.4.0\n",
      "archspec                                0.2.3\n",
      "argon2-cffi                             23.1.0\n",
      "argon2-cffi-bindings                    21.2.0\n",
      "arrow                                   1.3.0\n",
      "asn1crypto                              1.5.1\n",
      "astroid                                 3.2.2\n",
      "asttokens                               2.4.1\n",
      "astunparse                              1.6.3\n",
      "async-lru                               2.0.4\n",
      "async-timeout                           4.0.3\n",
      "attrs                                   23.2.0\n",
      "autogluon                               0.8.3\n",
      "autogluon.common                        0.8.3\n",
      "autogluon.core                          0.8.3\n",
      "autogluon.features                      0.8.3\n",
      "autogluon.multimodal                    0.8.3\n",
      "autogluon.tabular                       0.8.3\n",
      "autogluon.timeseries                    0.8.3\n",
      "autopep8                                2.0.4\n",
      "autovizwidget                           0.21.0\n",
      "aws-embedded-metrics                    3.2.0\n",
      "aws-glue-sessions                       1.0.6\n",
      "awscli                                  1.18.216\n",
      "Babel                                   2.14.0\n",
      "bcrypt                                  4.1.3\n",
      "beautifulsoup4                          4.12.3\n",
      "binaryornot                             0.4.4\n",
      "bleach                                  6.1.0\n",
      "blinker                                 1.8.2\n",
      "blis                                    0.7.10\n",
      "boltons                                 24.0.0\n",
      "boto3                                   1.16.56\n",
      "botocore                                1.19.56\n",
      "Brotli                                  1.1.0\n",
      "cached-property                         1.5.2\n",
      "cachetools                              5.3.3\n",
      "candidate_data_processors               1.0.0\n",
      "catalogue                               2.0.10\n",
      "catboost                                1.2.5\n",
      "certifi                                 2024.6.2\n",
      "cffi                                    1.16.0\n",
      "chardet                                 5.2.0\n",
      "charset-normalizer                      3.3.2\n",
      "click                                   8.1.7\n",
      "cloudpathlib                            0.16.0\n",
      "cloudpickle                             2.2.1\n",
      "colorama                                0.4.3\n",
      "comm                                    0.2.2\n",
      "conda                                   23.11.0\n",
      "conda-libmamba-solver                   24.1.0\n",
      "conda-package-handling                  2.3.0\n",
      "conda_package_streaming                 0.10.0\n",
      "confection                              0.1.4\n",
      "contextlib2                             21.6.0\n",
      "contourpy                               1.2.1\n",
      "cookiecutter                            2.6.0\n",
      "croniter                                1.4.1\n",
      "cryptography                            42.0.8\n",
      "cycler                                  0.12.1\n",
      "cymem                                   2.0.8\n",
      "cytoolz                                 0.12.3\n",
      "dash                                    2.17.1\n",
      "dask                                    2024.6.2\n",
      "dataclasses-json                        0.6.7\n",
      "datasets                                2.20.0\n",
      "debugpy                                 1.8.1\n",
      "decorator                               5.1.1\n",
      "deepmerge                               1.1.1\n",
      "defusedxml                              0.7.1\n",
      "dill                                    0.3.8\n",
      "diskcache                               5.6.3\n",
      "distributed                             2024.6.2\n",
      "distro                                  1.9.0\n",
      "dm-tree                                 0.1.8\n",
      "docker                                  7.1.0\n",
      "docstring-to-markdown                   0.15\n",
      "docutils                                0.15.2\n",
      "entrypoints                             0.4\n",
      "enum-compat                             0.0.3\n",
      "evaluate                                0.4.1\n",
      "exceptiongroup                          1.2.0\n",
      "executing                               2.0.1\n",
      "faiss                                   1.7.4\n",
      "fastai                                  2.7.15\n",
      "fastapi                                 0.110.3\n",
      "fastcore                                1.5.48\n",
      "fastdownload                            0.0.7\n",
      "fastjsonschema                          2.20.0\n",
      "fastprogress                            1.0.3\n",
      "filelock                                3.15.4\n",
      "flake8                                  7.0.0\n",
      "Flask                                   3.0.3\n",
      "flatbuffers                             24.3.25\n",
      "fonttools                               4.53.0\n",
      "fqdn                                    1.5.1\n",
      "frozenlist                              1.4.1\n",
      "fsspec                                  2023.6.0\n",
      "future                                  1.0.0\n",
      "gast                                    0.5.4\n",
      "gdown                                   5.2.0\n",
      "gitdb                                   4.0.11\n",
      "GitPython                               3.1.43\n",
      "gluonts                                 0.13.7\n",
      "gmpy2                                   2.1.5\n",
      "google-auth                             2.30.0\n",
      "google-auth-oauthlib                    1.2.0\n",
      "google-pasta                            0.2.0\n",
      "graphviz                                0.20.3\n",
      "greenlet                                3.0.3\n",
      "grpcio                                  1.59.3\n",
      "gssapi                                  1.8.3\n",
      "h11                                     0.14.0\n",
      "h2                                      4.1.0\n",
      "h5py                                    3.11.0\n",
      "hdijupyterutils                         0.21.0\n",
      "hpack                                   4.0.0\n",
      "httpcore                                1.0.5\n",
      "httpx                                   0.27.0\n",
      "huggingface_hub                         0.23.4\n",
      "hyperframe                              6.0.1\n",
      "idna                                    3.7\n",
      "imagecodecs                             2024.1.1\n",
      "imageio                                 2.34.2\n",
      "importlib-metadata                      6.10.0\n",
      "importlib_resources                     6.4.0\n",
      "ipykernel                               6.29.4\n",
      "ipython                                 8.25.0\n",
      "ipywidgets                              8.1.3\n",
      "isoduration                             20.11.0\n",
      "isort                                   5.13.2\n",
      "itsdangerous                            2.2.0\n",
      "jedi                                    0.19.1\n",
      "Jinja2                                  3.1.4\n",
      "jmespath                                0.10.0\n",
      "joblib                                  1.4.2\n",
      "json5                                   0.9.25\n",
      "jsonpatch                               1.33\n",
      "jsonpath-ng                             1.6.1\n",
      "jsonpointer                             3.0.0\n",
      "jsonschema                              4.17.3\n",
      "jupyter                                 1.0.0\n",
      "jupyter_ai                              2.18.1\n",
      "jupyter_ai_magics                       2.18.1\n",
      "jupyter_client                          8.6.2\n",
      "jupyter_collaboration                   1.1.0\n",
      "jupyter-console                         6.6.3\n",
      "jupyter_core                            5.7.2\n",
      "jupyter-dash                            0.4.2\n",
      "jupyter-events                          0.6.3\n",
      "jupyter-lsp                             2.2.5\n",
      "jupyter_scheduler                       2.7.1\n",
      "jupyter_server                          2.10.0\n",
      "jupyter_server_fileid                   0.9.2\n",
      "jupyter-server-mathjax                  0.2.6\n",
      "jupyter_server_proxy                    4.2.0\n",
      "jupyter_server_terminals                0.5.3\n",
      "jupyter-ydoc                            1.1.1\n",
      "jupyterlab                              4.1.6\n",
      "jupyterlab_git                          0.50.0\n",
      "jupyterlab-lsp                          5.0.3\n",
      "jupyterlab_pygments                     0.3.0\n",
      "jupyterlab_server                       2.24.0\n",
      "jupyterlab_widgets                      3.0.11\n",
      "keras                                   2.15.0\n",
      "kiwisolver                              1.4.5\n",
      "krb5                                    0.5.1\n",
      "langchain                               0.1.9\n",
      "langchain-aws                           0.1.6\n",
      "langchain-community                     0.0.38\n",
      "langchain-core                          0.1.52\n",
      "langcodes                               3.4.0\n",
      "langsmith                               0.1.82\n",
      "language_data                           1.2.0\n",
      "libmambapy                              1.5.8\n",
      "lightgbm                                3.3.5\n",
      "lightning-utilities                     0.11.2\n",
      "llvmlite                                0.43.0\n",
      "locket                                  1.0.0\n",
      "lxml                                    4.9.4\n",
      "marisa-trie                             1.1.0\n",
      "Markdown                                3.6\n",
      "markdown-it-py                          3.0.0\n",
      "MarkupSafe                              2.1.5\n",
      "marshmallow                             3.21.3\n",
      "matplotlib                              3.1.3\n",
      "matplotlib-inline                       0.1.7\n",
      "mccabe                                  0.7.0\n",
      "mdurl                                   0.1.2\n",
      "menuinst                                2.1.1\n",
      "mistune                                 3.0.2\n",
      "ml-dtypes                               0.2.0\n",
      "mlforecast                              0.7.3\n",
      "mock                                    5.1.0\n",
      "model-index                             0.1.11\n",
      "mpmath                                  1.3.0\n",
      "msgpack                                 1.0.8\n",
      "multidict                               6.0.5\n",
      "multiprocess                            0.70.16\n",
      "munkres                                 1.1.4\n",
      "murmurhash                              1.0.10\n",
      "mypy-extensions                         1.0.0\n",
      "nbclient                                0.10.0\n",
      "nbconvert                               7.16.4\n",
      "nbdime                                  4.0.1\n",
      "nbformat                                5.10.4\n",
      "nest_asyncio                            1.6.0\n",
      "networkx                                3.3\n",
      "nlpaug                                  1.1.11\n",
      "nltk                                    3.8.1\n",
      "nose                                    1.3.7\n",
      "notebook                                7.1.3\n",
      "notebook_shim                           0.2.4\n",
      "nptyping                                2.4.1\n",
      "numba                                   0.60.0\n",
      "numpy                                   1.26.4\n",
      "oauthlib                                3.2.2\n",
      "omegaconf                               2.2.3\n",
      "openmim                                 0.3.7\n",
      "opt-einsum                              3.3.0\n",
      "ordered-set                             4.1.0\n",
      "orjson                                  3.10.4\n",
      "overrides                               7.7.0\n",
      "packaging                               23.2\n",
      "pandas                                  2.1.4\n",
      "pandocfilters                           1.5.0\n",
      "papermill                               2.6.0\n",
      "paramiko                                3.4.0\n",
      "parso                                   0.8.4\n",
      "partd                                   1.4.2\n",
      "pathos                                  0.3.2\n",
      "patsy                                   0.5.6\n",
      "pexpect                                 4.9.0\n",
      "pickleshare                             0.7.5\n",
      "pillow                                  10.3.0\n",
      "pip                                     24.1.2\n",
      "pkgutil_resolve_name                    1.3.10\n",
      "platformdirs                            4.2.2\n",
      "plotly                                  5.22.0\n",
      "pluggy                                  1.5.0\n",
      "ply                                     3.11\n",
      "pox                                     0.3.4\n",
      "ppft                                    1.7.6.8\n",
      "preshed                                 3.0.9\n",
      "prometheus_client                       0.20.0\n",
      "promise                                 2.3\n",
      "prompt_toolkit                          3.0.47\n",
      "protobuf                                3.20.3\n",
      "protobuf3-to-dict                       0.1.5\n",
      "psutil                                  5.9.8\n",
      "psycopg2-binary                         2.9.1\n",
      "ptyprocess                              0.7.0\n",
      "pure-eval                               0.2.2\n",
      "pure-sasl                               0.6.2\n",
      "pyarrow                                 15.0.0\n",
      "pyarrow-hotfix                          0.6\n",
      "pyasn1                                  0.6.0\n",
      "pyasn1_modules                          0.4.0\n",
      "pyathena                                2.1.0\n",
      "pycodestyle                             2.11.1\n",
      "pycosat                                 0.6.6\n",
      "pycparser                               2.22\n",
      "pydantic                                1.10.16\n",
      "pydantic_core                           2.18.4\n",
      "pydocstyle                              6.3.0\n",
      "pyflakes                                3.2.0\n",
      "Pygments                                2.18.0\n",
      "PyHive                                  0.7.0\n",
      "pyinstrument                            4.6.2\n",
      "PyJWT                                   2.8.0\n",
      "pylint                                  3.2.3\n",
      "PyNaCl                                  1.5.0\n",
      "pyOpenSSL                               24.0.0\n",
      "pyparsing                               3.1.2\n",
      "PyQt5                                   5.15.9\n",
      "PyQt5-sip                               12.12.2\n",
      "pyrsistent                              0.20.0\n",
      "PySocks                                 1.7.1\n",
      "pyspnego                                0.11.0\n",
      "pytesseract                             0.3.10\n",
      "python-dateutil                         2.9.0\n",
      "python-json-logger                      2.0.7\n",
      "python-lsp-jsonrpc                      1.1.2\n",
      "python-lsp-server                       1.11.0\n",
      "python-slugify                          8.0.4\n",
      "pytoolconfig                            1.2.5\n",
      "pytorch-lightning                       2.0.9\n",
      "pytorch-metric-learning                 1.7.3\n",
      "pytz                                    2023.3\n",
      "pyu2f                                   0.1.5\n",
      "PyWavelets                              1.4.1\n",
      "PyYAML                                  5.3.1\n",
      "pyzmq                                   26.0.3\n",
      "qtconsole                               5.5.2\n",
      "QtPy                                    2.4.1\n",
      "redshift_connector                      2.1.2\n",
      "regex                                   2024.5.15\n",
      "requests                                2.32.3\n",
      "requests-kerberos                       0.14.0\n",
      "requests-oauthlib                       2.0.0\n",
      "responses                               0.18.0\n",
      "retrying                                1.3.3\n",
      "rfc3339-validator                       0.1.4\n",
      "rfc3986-validator                       0.1.1\n",
      "rich                                    13.7.1\n",
      "rope                                    1.13.0\n",
      "rsa                                     4.5\n",
      "ruamel.yaml                             0.18.6\n",
      "ruamel.yaml.clib                        0.2.8\n",
      "s3transfer                              0.3.7\n",
      "safetensors                             0.4.3\n",
      "sagemaker                               2.29.0\n",
      "sagemaker-experiments                   0.1.26\n",
      "sagemaker-headless-execution-driver     0.0.12\n",
      "sagemaker-jupyterlab-emr-extension      0.1.9\n",
      "sagemaker-jupyterlab-extension          0.3.2\n",
      "sagemaker-jupyterlab-extension-common   0.1.18\n",
      "sagemaker-kernel-wrapper                0.0.2\n",
      "sagemaker-scikit-learn-extension        2.5.0\n",
      "sagemaker-studio-analytics-extension    0.0.21\n",
      "sagemaker-studio-sparkmagic-lib         0.1.4\n",
      "sasl                                    0.3.1\n",
      "schema                                  0.7.7\n",
      "scikit-image                            0.19.3\n",
      "scikit-learn                            1.4.2\n",
      "SciPy                                   1.11.4\n",
      "scramp                                  1.4.4\n",
      "seaborn                                 0.10.0\n",
      "Send2Trash                              1.8.3\n",
      "sentencepiece                           0.1.99\n",
      "seqeval                                 1.2.2\n",
      "setuptools                              70.1.1\n",
      "shellingham                             1.5.4\n",
      "simpervisor                             1.0.0\n",
      "sip                                     6.7.12\n",
      "six                                     1.16.0\n",
      "smart-open                              6.4.0\n",
      "smdebug                                 1.0.1\n",
      "smdebug-rulesconfig                     1.0.1\n",
      "smmap                                   5.0.0\n",
      "sniffio                                 1.3.1\n",
      "snowballstemmer                         2.2.0\n",
      "snowflake-connector-python              3.11.0\n",
      "sortedcontainers                        2.4.0\n",
      "soupsieve                               2.5\n",
      "spacy                                   3.7.4\n",
      "spacy-legacy                            3.0.12\n",
      "spacy-loggers                           1.0.5\n",
      "sparkmagic                              0.21.0\n",
      "SQLAlchemy                              1.3.22\n",
      "sqlparse                                0.5.0\n",
      "srsly                                   2.4.8\n",
      "stack-data                              0.6.2\n",
      "starlette                               0.37.2\n",
      "statsforecast                           1.4.0\n",
      "statsmodels                             0.14.2\n",
      "stepfunctions                           2.0.0rc1\n",
      "supervisor                              4.2.5\n",
      "sympy                                   1.12.1\n",
      "tabulate                                0.9.0\n",
      "tblib                                   2.0.0\n",
      "tenacity                                8.4.2\n",
      "tensorboard                             2.15.2\n",
      "tensorboard-data-server                 0.7.0\n",
      "tensorflow                              2.15.0\n",
      "tensorflow-datasets                     4.0.0\n",
      "tensorflow_estimator                    2.15.0\n",
      "tensorflow-metadata                     1.15.0\n",
      "tensorflow-recommenders                 0.2.0\n",
      "termcolor                               2.4.0\n",
      "terminado                               0.18.1\n",
      "text-unidecode                          1.3\n",
      "thinc                                   8.2.3\n",
      "threadpoolctl                           3.5.0\n",
      "thrift                                  0.20.0\n",
      "thrift-sasl                             0.4.3\n",
      "tifffile                                2024.6.18\n",
      "timm                                    0.9.16\n",
      "tinycss2                                1.3.0\n",
      "tokenizers                              0.19.1\n",
      "toml                                    0.10.2\n",
      "tomli                                   2.0.1\n",
      "tomlkit                                 0.12.5\n",
      "toolz                                   0.12.1\n",
      "torch                                   2.0.0.post104\n",
      "torch-model-archiver                    0.3.0\n",
      "torchmetrics                            1.0.3\n",
      "torchserve                              0.3.0\n",
      "torchvision                             0.15.2a0+ab7b3e6\n",
      "tornado                                 6.4.1\n",
      "tqdm                                    4.66.4\n",
      "traitlets                               5.14.3\n",
      "transformers                            4.40.2\n",
      "truststore                              0.8.0\n",
      "typer                                   0.9.4\n",
      "types-python-dateutil                   2.9.0.20240316\n",
      "typing_extensions                       4.12.2\n",
      "typing-inspect                          0.9.0\n",
      "typing-utils                            0.1.0\n",
      "typish                                  1.9.3\n",
      "tzdata                                  2024.1\n",
      "ujson                                   5.10.0\n",
      "unicodedata2                            15.1.0\n",
      "uri-template                            1.3.0\n",
      "urllib3                                 1.26.19\n",
      "uvicorn                                 0.30.1\n",
      "wasabi                                  1.1.2\n",
      "wcwidth                                 0.2.13\n",
      "weasel                                  0.3.4\n",
      "webcolors                               24.6.0\n",
      "webencodings                            0.5.1\n",
      "websocket-client                        1.8.0\n",
      "Werkzeug                                3.0.3\n",
      "whatthepatch                            1.0.5\n",
      "wheel                                   0.43.0\n",
      "widgetsnbextension                      4.0.11\n",
      "window_ops                              0.0.15\n",
      "wrapt                                   1.16.0\n",
      "xgboost                                 1.7.6\n",
      "xxhash                                  3.4.1\n",
      "y-py                                    0.6.2\n",
      "yapf                                    0.40.1\n",
      "yarl                                    1.9.4\n",
      "ypy-websocket                           0.12.4\n",
      "zict                                    3.0.0\n",
      "zipp                                    3.19.2\n",
      "zstandard                               0.22.0\n"
     ]
    }
   ],
   "source": [
    "!pip list"
   ]
  },
  {
   "cell_type": "code",
   "execution_count": 23,
   "metadata": {},
   "outputs": [],
   "source": [
    "setup_dependencies_passed = True"
   ]
  },
  {
   "cell_type": "code",
   "execution_count": 24,
   "metadata": {},
   "outputs": [
    {
     "name": "stdout",
     "output_type": "stream",
     "text": [
      "Stored 'setup_dependencies_passed' (bool)\n"
     ]
    }
   ],
   "source": [
    "%store setup_dependencies_passed"
   ]
  },
  {
   "cell_type": "code",
   "execution_count": 25,
   "metadata": {},
   "outputs": [
    {
     "name": "stdout",
     "output_type": "stream",
     "text": [
      "Stored variables and their in-db values:\n",
      "USE_FULL_MOVIELENS                      -> False\n",
      "bucket_name                             -> '992382405090personalizepocvod'\n",
      "comprehend_endpoint_arn                 -> 'arn:aws:comprehend:us-east-1:992382405090:documen\n",
      "comprehend_train_s3_uri                 -> 's3://sagemaker-us-east-1-992382405090/data/amazon\n",
      "comprehend_training_job_arn             -> 'arn:aws:comprehend:us-east-1:992382405090:documen\n",
      "data_dir                                -> 'poc_data'\n",
      "dataset_dir                             -> 'poc_data/ml-latest-small/'\n",
      "dataset_group_arn                       -> 'arn:aws:personalize:us-east-1:992382405090:datase\n",
      "forecast_arn                            -> 'arn:aws:forecast:us-east-1:992382405090:forecast/\n",
      "forecast_dataset_arn                    -> 'arn:aws:forecast:us-east-1:992382405090:dataset/u\n",
      "forecast_dataset_group_arn              -> 'arn:aws:forecast:us-east-1:992382405090:dataset-g\n",
      "forecast_predictor_arn                  -> 'arn:aws:forecast:us-east-1:992382405090:predictor\n",
      "forecast_project_name                   -> 'util_power_forecast'\n",
      "forecast_role_name                      -> 'ForecastNotebookRole'\n",
      "interactions_dataset_arn                -> 'arn:aws:personalize:us-east-1:992382405090:datase\n",
      "region                                  -> 'us-east-1'\n",
      "role_arn                                -> 'arn:aws:iam::992382405090:role/PersonalizeRolePOC\n",
      "role_name                               -> 'PersonalizeRolePOC'\n",
      "setup_dependencies_passed               -> True\n"
     ]
    }
   ],
   "source": [
    "%store"
   ]
  },
  {
   "cell_type": "markdown",
   "metadata": {},
   "source": [
    "# Release Resources"
   ]
  },
  {
   "cell_type": "code",
   "execution_count": 26,
   "metadata": {},
   "outputs": [
    {
     "data": {
      "text/html": [
       "\n",
       "<p><b>Shutting down your kernel for this notebook to release resources.</b></p>\n",
       "<button class=\"sm-command-button\" data-commandlinker-command=\"kernelmenu:shutdown\" style=\"display:none;\">Shutdown Kernel</button>\n",
       "        \n",
       "<script>\n",
       "try {\n",
       "    els = document.getElementsByClassName(\"sm-command-button\");\n",
       "    els[0].click();\n",
       "}\n",
       "catch(err) {\n",
       "    // NoOp\n",
       "}    \n",
       "</script>\n"
      ],
      "text/plain": [
       "<IPython.core.display.HTML object>"
      ]
     },
     "metadata": {},
     "output_type": "display_data"
    }
   ],
   "source": [
    "%%html\n",
    "\n",
    "<p><b>Shutting down your kernel for this notebook to release resources.</b></p>\n",
    "<button class=\"sm-command-button\" data-commandlinker-command=\"kernelmenu:shutdown\" style=\"display:none;\">Shutdown Kernel</button>\n",
    "        \n",
    "<script>\n",
    "try {\n",
    "    els = document.getElementsByClassName(\"sm-command-button\");\n",
    "    els[0].click();\n",
    "}\n",
    "catch(err) {\n",
    "    // NoOp\n",
    "}    \n",
    "</script>"
   ]
  },
  {
   "cell_type": "code",
   "execution_count": 27,
   "metadata": {},
   "outputs": [
    {
     "data": {
      "application/javascript": [
       "\n",
       "try {\n",
       "    Jupyter.notebook.save_checkpoint();\n",
       "    Jupyter.notebook.session.delete();\n",
       "}\n",
       "catch(err) {\n",
       "    // NoOp\n",
       "}\n"
      ],
      "text/plain": [
       "<IPython.core.display.Javascript object>"
      ]
     },
     "metadata": {},
     "output_type": "display_data"
    }
   ],
   "source": [
    "%%javascript\n",
    "\n",
    "try {\n",
    "    Jupyter.notebook.save_checkpoint();\n",
    "    Jupyter.notebook.session.delete();\n",
    "}\n",
    "catch(err) {\n",
    "    // NoOp\n",
    "}"
   ]
  }
 ],
 "metadata": {
  "instance_type": "ml.t3.medium",
  "kernelspec": {
   "display_name": "Python 3 (ipykernel)",
   "language": "python",
   "name": "python3"
  },
  "language_info": {
   "codemirror_mode": {
    "name": "ipython",
    "version": 3
   },
   "file_extension": ".py",
   "mimetype": "text/x-python",
   "name": "python",
   "nbconvert_exporter": "python",
   "pygments_lexer": "ipython3",
   "version": "3.10.14"
  }
 },
 "nbformat": 4,
 "nbformat_minor": 4
}
